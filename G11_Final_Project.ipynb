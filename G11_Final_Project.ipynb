{
 "cells": [
  {
   "cell_type": "markdown",
   "metadata": {},
   "source": [
    "# Traffic Violations in Maryland County"
   ]
  },
  {
   "cell_type": "markdown",
   "metadata": {},
   "source": [
    "## Group 11 Team Members:\n",
    "## Attestation\n",
    "#### All project team member contributed equally and meaningfully to the project and have completed knowledge on any part of it.\n",
    "## Contribution\n",
    "##### -- Yucong Hu: Design schema; create dimentional tables vehicle; date; hour; bueinss questions 2 and 3 and data visualization; \n",
    "##### -- Yuyang Zhao: Create dimentional tables consequence; location; bueinss questions 2 and 3 and data visualization\n",
    "##### -- Yichen Li: Create dimentional tables law; cause; Bueinss questions 1 and data visualization\n",
    "##### -- Shengqi Zhou: Setup database; Create dimentional tables; personal information; bueinss questions 1 and data visualization"
   ]
  },
  {
   "cell_type": "markdown",
   "metadata": {},
   "source": [
    "## Identify our dataset and describe the reason we choose the dataset"
   ]
  },
  {
   "cell_type": "markdown",
   "metadata": {},
   "source": [
    "### Select Data: Identify Traffic Violations in Maryland County\n",
    "We decided to use the dateset of Traffic Violations in Maryland County dataset. This datasets provides details on information of traffice violations happened in Maryland county with 35 columns about vehicle, driver's information, law-related information, possible causes of violation and consequences of violations.\n",
    "This data set contains all events of traffic violations from 2012 to 2018 in Maryland Couty. It has about 1.04 million records. The data type include date, number, boolean and text.\n",
    "\n",
    "### Reason to choose our dataset: why this data\n",
    "For minor violations, there are defective or improper vehicle equipment, seat belt and child-restraint safety violations, and exceeding speed limit, insurance or registration. For serious violations, it involves willful disregard of public safety, death or serious bodily injury, or damage to property. By and large, it's a very useful dataset which includes thorough information. D.C. has close geographical connection with Maryland, so D.C. residents, like us, care about the situation of traffic viiolation in our neighborhood. We would like to explore phenomenon and elements related to traffic violation and accidents. The data source is https://www.kaggle.com/rounak041993/traffic-violations-in-maryland-county."
   ]
  },
  {
   "cell_type": "markdown",
   "metadata": {},
   "source": [
    "### Column description\n",
    "1. accident : If traffic violation involved an accident.\n",
    "2. agency : Agency issuing the traffic violation. (Example: MCP is Montgomery County Police)\n",
    "3. alcohol : If the traffic violation included an alcohol related\n",
    "4. arrest_type : Type of Arrest (A = Marked, B = Unmarked, etc.)\n",
    "5. article : Article of State Law. (TA = Transportation Article, MR = Maryland Rules)\n",
    "6. belts : If traffic violation involved a seat belt violation.\n",
    "7. charge : Numeric code for the specific charge.\n",
    "8. color : Color of the vehicle.\n",
    "9. commercial_icense : If driver holds a Commercial Drivers License.\n",
    "10. Commercial Vehicle : If the vehicle committing the traffic violation is a commercial vehicle.\n",
    "11. Contributed To Accident : If the traffic violation was a contributing factor in an accident.\n",
    "12. Date Of Stop : Date of the traffic violation.\n",
    "13. Description : Text description of the specific charge.\n",
    "14. DL State : State issuing the Driver’s License.\n",
    "15. Driver City : City of the driver’s home address.\n",
    "16. Driver State : State of the driver’s home address.\n",
    "17. Fatal : If traffic violation involved a fatality.\n",
    "18. Gender : Gender of the driver (F = Female, M = Male)\n",
    "19. Geolocation : Geo-coded location information.\n",
    "20. HAZMAT : If the traffic violation involved hazardous materials.\n",
    "21. Latitude : Latitude location of the traffic violation.\n",
    "22. Location : Location of the violation, usually an address or intersection.\n",
    "23. Longitude : Longitude location of the traffic violation.\n",
    "24. Make : Manufacturer of the vehicle (Examples: Ford, Chevy, Honda, Toyota, etc.)\n",
    "25. Model : Model of the vehicle.\n",
    "26. Personal Injury : If traffic violation involved Personal Injury.\n",
    "27. Property Damage : If traffic violation involved Property Damage.\n",
    "28. Race : Race of the driver. (Example: Asian, Black, White, Other, etc.)\n",
    "29. State : State issuing the vehicle registration.\n",
    "30. SubAgency : Court code representing the district of assignment of the officer. R15 = 1st district, Rockville B15 = 2nd district, Bethesda SS15 = 3rd district, Silver Spring WG15 = 4th district, Wheaton G15 = 5th district, Germantown M15 = 6th district, Gaithersburg / Montgomery Village HQ15 = Headquarters and Special Operations\n",
    "31. Time Of Stop : Time of the traffic violation.\n",
    "32. VehicleType : Type of vehicle (Examples: Automobile, Station Wagon, Heavy Duty Truck, etc.)\n",
    "33. Violation Type : Violation type. (Examples: Warning, Citation, SERO)\n",
    "34. Work Zone : If the traffic violation was in a work zone.\n",
    "35. Year : Year vehicle was made.         "
   ]
  },
  {
   "cell_type": "markdown",
   "metadata": {},
   "source": [
    "### Wrangling the Dataset\n",
    "#### 1) Data Acquisition\n",
    "##### We uploaded our dateset onto AWS S3 and using !wget to acquire dateset into AWS jupyter notebook. The dataset is loaded into a database in a star schema with several dimension tables. At every step of the work we made effort to ensure that all data is loaded correctly.\n",
    "\n",
    "#### 2) Data Cleaning\n",
    "##### -Make sure each column in tables are transactional data by changing composed values into atomic value\n",
    "##### -Through csvstat, we observed our several columns contain null values, and we have two methods to deal with them. We set default values for some of them, and also remove null values in latitude and longitude when making a map analysis.\n",
    "##### -After had a breif glance at our dateset, we found column accident has all false values, which is not really usefull. So we decided to remove this column"
   ]
  },
  {
   "cell_type": "markdown",
   "metadata": {},
   "source": [
    "## Analytical questions I want to answer with the data\n",
    "#### 1) If a invester wants to establish a hospital in the area we are researching, where is the most proper location for the hospital to be used efficiently?\n",
    "#### 2) If department of transportation wants to decrease personal injury and number of violations in this area, which are the obvious streets the governemnt should pay more attention to and what actions it can take?\n",
    "#### 3) If local community and non-profit organizations such as American Red-cross want to arrange some volunteers during peak hour of traffic violations, what kind of recourses they should distribute? \n",
    "#### 4) If companies want to purchase vehical for commercail purpose, what considerations should be taken into account? "
   ]
  },
  {
   "cell_type": "markdown",
   "metadata": {},
   "source": [
    "## Concerns with the dataset and changes we expect to overcome\n",
    "##### Since we only have the car information involving violation, but not  the overall information on the total number of comsumption of every model and manufacturer. When we are tring to compare which car manufacturer is most likely to involve personal_injury, we would not be able to get a fair conclusion. So we can not say which car manufacturer produces the safer car if there is no proportion on calculation due to survivorship bias.\n",
    "##### We found out that there are many input mistakes on values of column make. We used the case statement to fix this problem. \n",
    "##### We have 1.04 million records, which would slow down our data analysis process. We would like to try other more advanced tools such as XSV, spark or other big data tools to speed up our analysis process."
   ]
  },
  {
   "cell_type": "markdown",
   "metadata": {},
   "source": [
    "## Set up"
   ]
  },
  {
   "cell_type": "code",
   "execution_count": 1,
   "metadata": {},
   "outputs": [],
   "source": [
    "## The ipython-sql library is loaded using the %load_ext iPython extension syntax and is pointed to the connection object aa\n",
    "%load_ext sql"
   ]
  },
  {
   "cell_type": "code",
   "execution_count": 2,
   "metadata": {},
   "outputs": [
    {
     "name": "stdout",
     "output_type": "stream",
     "text": [
      "dropdb: database removal failed: ERROR:  database \"week12\" is being accessed by other users\n",
      "DETAIL:  There are 2 other sessions using the database.\n"
     ]
    }
   ],
   "source": [
    "## The ipython-sql library is loaded using the %load_ext iPython extension syntax and is pointed to the connection object \n",
    "!dropdb -U student week12"
   ]
  },
  {
   "cell_type": "code",
   "execution_count": 3,
   "metadata": {},
   "outputs": [
    {
     "name": "stdout",
     "output_type": "stream",
     "text": [
      "createdb: database creation failed: ERROR:  database \"week12\" already exists\n"
     ]
    }
   ],
   "source": [
    "## create a new database for user student and nameit week12\n",
    "!createdb -U student week12"
   ]
  },
  {
   "cell_type": "code",
   "execution_count": 2,
   "metadata": {},
   "outputs": [
    {
     "data": {
      "text/plain": [
       "'Connected: student@week12'"
      ]
     },
     "execution_count": 2,
     "metadata": {},
     "output_type": "execute_result"
    }
   ],
   "source": [
    "## connect to the database. \n",
    "%sql postgresql://student@/week12"
   ]
  },
  {
   "cell_type": "code",
   "execution_count": 5,
   "metadata": {},
   "outputs": [
    {
     "name": "stdout",
     "output_type": "stream",
     "text": [
      "--2019-12-01 22:21:01--  https://shengqizhou.s3.amazonaws.com/Traffic_Violations.csv\n",
      "Resolving shengqizhou.s3.amazonaws.com (shengqizhou.s3.amazonaws.com)... 52.216.93.195\n",
      "Connecting to shengqizhou.s3.amazonaws.com (shengqizhou.s3.amazonaws.com)|52.216.93.195|:443... connected.\n",
      "HTTP request sent, awaiting response... 200 OK\n",
      "Length: 469434696 (448M) [text/csv]\n",
      "Saving to: ‘Traffic_Violations.csv’\n",
      "\n",
      "Traffic_Violations. 100%[===================>] 447.69M  51.9MB/s    in 9.0s    \n",
      "\n",
      "2019-12-01 22:21:10 (49.9 MB/s) - ‘Traffic_Violations.csv’ saved [469434696/469434696]\n",
      "\n"
     ]
    }
   ],
   "source": [
    "## upload the Traffic Violation dataset \n",
    "!wget https://shengqizhou.s3.amazonaws.com/Traffic_Violations.csv"
   ]
  },
  {
   "cell_type": "code",
   "execution_count": 6,
   "metadata": {},
   "outputs": [],
   "source": [
    "# change the name of the file\n",
    "!mv Traffic_Violations.csv violations.csv"
   ]
  },
  {
   "cell_type": "code",
   "execution_count": 56,
   "metadata": {},
   "outputs": [
    {
     "name": "stdout",
     "output_type": "stream",
     "text": [
      "  1: Date Of Stop\n",
      "  2: Time Of Stop\n",
      "  3: Agency\n",
      "  4: SubAgency\n",
      "  5: Description\n",
      "  6: Location\n",
      "  7: Latitude\n",
      "  8: Longitude\n",
      "  9: Accident\n",
      " 10: Belts\n",
      " 11: Personal Injury\n",
      " 12: Property Damage\n",
      " 13: Fatal\n",
      " 14: Commercial License\n",
      " 15: HAZMAT\n",
      " 16: Commercial Vehicle\n",
      " 17: Alcohol\n",
      " 18: Work Zone\n",
      " 19: State\n",
      " 20: VehicleType\n",
      " 21: Year\n",
      " 22: Make\n",
      " 23: Model\n",
      " 24: Color\n",
      " 25: Violation Type\n",
      " 26: Charge\n",
      " 27: Article\n",
      " 28: Contributed To Accident\n",
      " 29: Race\n",
      " 30: Gender\n",
      " 31: Driver City\n",
      " 32: Driver State\n",
      " 33: DL State\n",
      " 34: Arrest Type\n",
      " 35: Geolocation\n"
     ]
    }
   ],
   "source": [
    "## use csvcut to find the heading (attribute labels) of the file\n",
    "!csvcut -n violations.csv"
   ]
  },
  {
   "cell_type": "code",
   "execution_count": 9,
   "metadata": {},
   "outputs": [
    {
     "name": "stdout",
     "output_type": "stream",
     "text": [
      "1293488 violations.csv\n"
     ]
    }
   ],
   "source": [
    "## check the number of lines in the file\n",
    "!wc -l violations.csv"
   ]
  },
  {
   "cell_type": "markdown",
   "metadata": {},
   "source": [
    "## Create Table and Import"
   ]
  },
  {
   "cell_type": "code",
   "execution_count": 9,
   "metadata": {},
   "outputs": [
    {
     "name": "stdout",
     "output_type": "stream",
     "text": [
      "Date Of Stop,Time Of Stop,Agency,SubAgency,Description,Location,Latitude,Longitude,Accident,Belts,Personal Injury,Property Damage,Fatal,Commercial License,HAZMAT,Commercial Vehicle,Alcohol,Work Zone,State,VehicleType,Year,Make,Model,Color,Violation Type,Charge,Article,Contributed To Accident,Race,Gender,Driver City,Driver State,DL State,Arrest Type,Geolocation\n",
      "09/24/2013,17:11:00,MCP,\"3rd district, Silver Spring\",DRIVING VEHICLE ON HIGHWAY WITH SUSPENDED REGISTRATION,8804 FLOWER AVE,,,No,No,No,No,No,No,No,No,No,No,MD,02 - Automobile,2008,FORD,4S,BLACK,Citation,13-401(h),Transportation Article,No,BLACK,M,TAKOMA PARK,MD,MD,A - Marked Patrol,\n",
      "08/29/2017,10:19:00,MCP,\"2nd district, Bethesda\",DRIVER FAILURE TO OBEY PROPERLY PLACED TRAFFIC CONTROL DEVICE INSTRUCTIONS,WISCONSIN AVE@ ELM ST,38.981725,-77.0927566666667,No,No,No,No,No,No,No,No,No,No,VA,02 - Automobile,2001,TOYOTA,COROLLA,GREEN,Citation,21-201(a1),Transportation Article,No,WHITE,F,FAIRFAX STATION,VA,VA,A - Marked Patrol,\"(38.981725, -77.0927566666667)\"\n",
      "12/01/2014,12:52:00,MCP,\"6th district, Gaithersburg / Montgomery Village\",FAILURE STOP AND YIELD AT THRU HWY,CHRISTOPHER AVE/MONTGOMERY VILLAGE AVE,39.1628883333333,-77.2290883333333,No,No,No,Yes,No,No,No,No,No,No,MD,02 - Automobile,2001,HONDA,ACCORD,SILVER,Citation,21-403(b),Transportation Article,No,BLACK,F,UPPER MARLBORO,MD,MD,A - Marked Patrol,\"(39.1628883333333, -77.2290883333333)\"\n",
      "08/29/2017,09:22:00,MCP,\"3rd district, Silver Spring\",FAILURE YIELD RIGHT OF WAY ON U TURN,CHERRY HILL RD./CALVERTON BLVD.,39.056975,-76.9546333333333,No,No,No,Yes,No,No,No,No,No,No,MD,02 - Automobile,1998,DODG,DAKOTA,WHITE,Citation,21-402(b),Transportation Article,No,BLACK,M,FORT WASHINGTON,MD,MD,A - Marked Patrol,\"(39.056975, -76.9546333333333)\"\n"
     ]
    }
   ],
   "source": [
    "## let's first have a feeling for the data values in the 9 fields\n",
    "!head -n 5 violations.csv"
   ]
  },
  {
   "cell_type": "code",
   "execution_count": 10,
   "metadata": {},
   "outputs": [
    {
     "name": "stdout",
     "output_type": "stream",
     "text": [
      "  1. \"Date Of Stop\"\n",
      "\n",
      "\tType of data:          Date\n",
      "\tContains null values:  False\n",
      "\tUnique values:         898\n",
      "\tSmallest value:        2012-01-01\n",
      "\tLargest value:         2017-09-19\n",
      "\tMost common values:    2016-12-02 (776x)\n",
      "\t                       2016-11-23 (694x)\n",
      "\t                       2016-12-01 (685x)\n",
      "\t                       2016-11-26 (676x)\n",
      "\t                       2016-11-24 (585x)\n",
      "\n",
      "  2. \"Time Of Stop\"\n",
      "\n",
      "\tType of data:          TimeDelta\n",
      "\tContains null values:  False\n",
      "\tUnique values:         1333\n",
      "\tMost common values:    22:39:00 (37x)\n",
      "\t                       0:39:00 (36x)\n",
      "\t                       1:06:00 (33x)\n",
      "\t                       23:01:00 (31x)\n",
      "\t                       0:12:00 (31x)\n",
      "\n",
      "  3. \"Agency\"\n",
      "\n",
      "\tType of data:          Text\n",
      "\tContains null values:  False\n",
      "\tUnique values:         1\n",
      "\tLongest value:         3 characters\n",
      "\tMost common values:    MCP (9995x)\n",
      "\n",
      "  4. \"SubAgency\"\n",
      "\n",
      "\tType of data:          Text\n",
      "\tContains null values:  False\n",
      "\tUnique values:         7\n",
      "\tLongest value:         47 characters\n",
      "\tMost common values:    4th district, Wheaton (2929x)\n",
      "\t                       3rd district, Silver Spring (1970x)\n",
      "\t                       6th district, Gaithersburg / Montgomery Village (1349x)\n",
      "\t                       2nd district, Bethesda (1154x)\n",
      "\t                       5th district, Germantown (1131x)\n",
      "\n",
      "  5. \"Description\"\n",
      "\n",
      "\tType of data:          Text\n",
      "\tContains null values:  False\n",
      "\tUnique values:         795\n",
      "\tLongest value:         100 characters\n",
      "\tMost common values:    DRIVER FAILURE TO OBEY PROPERLY PLACED TRAFFIC CONTROL DEVICE INSTRUCTIONS (653x)\n",
      "\t                       FAILURE TO DISPLAY REGISTRATION CARD UPON DEMAND BY POLICE OFFICER (407x)\n",
      "\t                       DRIVING VEHICLE ON HIGHWAY WITH SUSPENDED REGISTRATION (364x)\n",
      "\t                       FAILURE OF INDIVIDUAL DRIVING ON HIGHWAY TO DISPLAY LICENSE TO UNIFORMED POLICE ON DEMAND (359x)\n",
      "\t                       PERSON DRIVING MOTOR VEHICLE ON HIGHWAY OR PUBLIC USE PROPERTY ON SUSPENDED LICENSE AND PRIVILEGE (297x)\n",
      "\n",
      "  6. \"Location\"\n",
      "\n",
      "\tType of data:          Text\n",
      "\tContains null values:  False\n",
      "\tUnique values:         4074\n",
      "\tLongest value:         40 characters\n",
      "\tMost common values:    GEORGIA AVE @ URBANA DR (43x)\n",
      "\t                       NORBECK RD / NORWOOD RD (30x)\n",
      "\t                       CONNECTICUT AVE @ DELANO ST (28x)\n",
      "\t                       WISCONSIN AVE AND EAST WEST HWY (22x)\n",
      "\t                       PARKLAND DR @ FAROE PL (21x)\n",
      "\n",
      "  7. \"Latitude\"\n",
      "\n",
      "\tType of data:          Number\n",
      "\tContains null values:  True (excluded from calculations)\n",
      "\tUnique values:         4734\n",
      "\tSmallest value:        38.855\n",
      "\tLargest value:         39.427\n",
      "\tSum:                   361,724.751\n",
      "\tMean:                  39.084\n",
      "\tMedian:                39.073\n",
      "\tStDev:                 0.067\n",
      "\tMost common values:    None (740x)\n",
      "\t                       39.121 (20x)\n",
      "\t                       39.046 (19x)\n",
      "\t                       39.149 (17x)\n",
      "\t                       39.053 (17x)\n",
      "\n",
      "  8. \"Longitude\"\n",
      "\n",
      "\tType of data:          Number\n",
      "\tContains null values:  True (excluded from calculations)\n",
      "\tUnique values:         4744\n",
      "\tSmallest value:        -77.511\n",
      "\tLargest value:         -76.838\n",
      "\tSum:                   -713,667.695\n",
      "\tMean:                  -77.112\n",
      "\tMedian:                -77.092\n",
      "\tStDev:                 0.093\n",
      "\tMost common values:    None (740x)\n",
      "\t                       -77.202 (20x)\n",
      "\t                       -76.991 (19x)\n",
      "\t                       -77.215 (17x)\n",
      "\t                       -77.051 (17x)\n",
      "\n",
      "  9. \"Accident\"\n",
      "\n",
      "\tType of data:          Boolean\n",
      "\tContains null values:  False\n",
      "\tUnique values:         1\n",
      "\tMost common values:    False (9995x)\n",
      "\n",
      " 10. \"Belts\"\n",
      "\n",
      "\tType of data:          Boolean\n",
      "\tContains null values:  False\n",
      "\tUnique values:         2\n",
      "\tMost common values:    False (9665x)\n",
      "\t                       True (330x)\n",
      "\n",
      " 11. \"Personal Injury\"\n",
      "\n",
      "\tType of data:          Boolean\n",
      "\tContains null values:  False\n",
      "\tUnique values:         2\n",
      "\tMost common values:    False (9824x)\n",
      "\t                       True (171x)\n",
      "\n",
      " 12. \"Property Damage\"\n",
      "\n",
      "\tType of data:          Boolean\n",
      "\tContains null values:  False\n",
      "\tUnique values:         2\n",
      "\tMost common values:    False (9705x)\n",
      "\t                       True (290x)\n",
      "\n",
      " 13. \"Fatal\"\n",
      "\n",
      "\tType of data:          Boolean\n",
      "\tContains null values:  False\n",
      "\tUnique values:         2\n",
      "\tMost common values:    False (9990x)\n",
      "\t                       True (5x)\n",
      "\n",
      " 14. \"Commercial License\"\n",
      "\n",
      "\tType of data:          Boolean\n",
      "\tContains null values:  False\n",
      "\tUnique values:         2\n",
      "\tMost common values:    False (9754x)\n",
      "\t                       True (241x)\n",
      "\n",
      " 15. \"HAZMAT\"\n",
      "\n",
      "\tType of data:          Boolean\n",
      "\tContains null values:  False\n",
      "\tUnique values:         1\n",
      "\tMost common values:    False (9995x)\n",
      "\n",
      " 16. \"Commercial Vehicle\"\n",
      "\n",
      "\tType of data:          Boolean\n",
      "\tContains null values:  False\n",
      "\tUnique values:         2\n",
      "\tMost common values:    False (9988x)\n",
      "\t                       True (7x)\n",
      "\n",
      " 17. \"Alcohol\"\n",
      "\n",
      "\tType of data:          Boolean\n",
      "\tContains null values:  False\n",
      "\tUnique values:         2\n",
      "\tMost common values:    False (9970x)\n",
      "\t                       True (25x)\n",
      "\n",
      " 18. \"Work Zone\"\n",
      "\n",
      "\tType of data:          Boolean\n",
      "\tContains null values:  False\n",
      "\tUnique values:         1\n",
      "\tMost common values:    False (9995x)\n",
      "\n",
      " 19. \"State\"\n",
      "\n",
      "\tType of data:          Text\n",
      "\tContains null values:  False\n",
      "\tUnique values:         38\n",
      "\tLongest value:         2 characters\n",
      "\tMost common values:    MD (8681x)\n",
      "\t                       VA (423x)\n",
      "\t                       DC (272x)\n",
      "\t                       XX (109x)\n",
      "\t                       PA (77x)\n",
      "\n",
      " 20. \"VehicleType\"\n",
      "\n",
      "\tType of data:          Text\n",
      "\tContains null values:  False\n",
      "\tUnique values:         14\n",
      "\tLongest value:         25 characters\n",
      "\tMost common values:    02 - Automobile (9115x)\n",
      "\t                       05 - Light Duty Truck (417x)\n",
      "\t                       28 - Other (114x)\n",
      "\t                       03 - Station Wagon (111x)\n",
      "\t                       01 - Motorcycle (75x)\n",
      "\n",
      " 21. \"Year\"\n",
      "\n",
      "\tType of data:          Number\n",
      "\tContains null values:  True (excluded from calculations)\n",
      "\tUnique values:         41\n",
      "\tSmallest value:        0\n",
      "\tLargest value:         3,003\n",
      "\tSum:                   19,895,105\n",
      "\tMean:                  2,005.353\n",
      "\tMedian:                2,007\n",
      "\tStDev:                 52.186\n",
      "\tMost common values:    2,007 (625x)\n",
      "\t                       2,005 (604x)\n",
      "\t                       2,006 (597x)\n",
      "\t                       2,004 (570x)\n",
      "\t                       2,014 (563x)\n",
      "\n",
      " 22. \"Make\"\n",
      "\n",
      "\tType of data:          Text\n",
      "\tContains null values:  True (excluded from calculations)\n",
      "\tUnique values:         204\n",
      "\tLongest value:         15 characters\n",
      "\tMost common values:    TOYOTA (1186x)\n",
      "\t                       HONDA (1186x)\n",
      "\t                       FORD (966x)\n",
      "\t                       TOYT (566x)\n",
      "\t                       NISSAN (555x)\n",
      "\n",
      " 23. \"Model\"\n",
      "\n",
      "\tType of data:          Text\n",
      "\tContains null values:  True (excluded from calculations)\n",
      "\tUnique values:         876\n",
      "\tLongest value:         15 characters\n",
      "\tMost common values:    4S (1035x)\n",
      "\t                       TK (550x)\n",
      "\t                       ACCORD (400x)\n",
      "\t                       CIVIC (396x)\n",
      "\t                       CAMRY (354x)\n",
      "\n",
      " 24. \"Color\"\n",
      "\n",
      "\tType of data:          Text\n",
      "\tContains null values:  True (excluded from calculations)\n",
      "\tUnique values:         24\n",
      "\tLongest value:         11 characters\n",
      "\tMost common values:    BLACK (1980x)\n",
      "\t                       SILVER (1890x)\n",
      "\t                       WHITE (1463x)\n",
      "\t                       GRAY (1174x)\n",
      "\t                       BLUE (795x)\n",
      "\n",
      " 25. \"Violation Type\"\n",
      "\n",
      "\tType of data:          Text\n",
      "\tContains null values:  False\n",
      "\tUnique values:         3\n",
      "\tLongest value:         8 characters\n",
      "\tMost common values:    Citation (6175x)\n",
      "\t                       Warning (3551x)\n",
      "\t                       ESERO (269x)\n",
      "\n",
      " 26. \"Charge\"\n",
      "\n",
      "\tType of data:          Text\n",
      "\tContains null values:  False\n",
      "\tUnique values:         302\n",
      "\tLongest value:         13 characters\n",
      "\tMost common values:    21-801.1 (880x)\n",
      "\t                       21-201(a1) (653x)\n",
      "\t                       13-409(b) (410x)\n",
      "\t                       16-101(a) (407x)\n",
      "\t                       13-401(h) (369x)\n",
      "\n",
      " 27. \"Article\"\n",
      "\n",
      "\tType of data:          Text\n",
      "\tContains null values:  True (excluded from calculations)\n",
      "\tUnique values:         3\n",
      "\tLongest value:         22 characters\n",
      "\tMost common values:    Transportation Article (9703x)\n",
      "\t                       None (269x)\n",
      "\t                       Maryland Rules (23x)\n",
      "\n",
      " 28. \"Contributed To Accident\"\n",
      "\n",
      "\tType of data:          Boolean\n",
      "\tContains null values:  False\n",
      "\tUnique values:         2\n",
      "\tMost common values:    False (9612x)\n",
      "\t                       True (383x)\n",
      "\n",
      " 29. \"Race\"\n",
      "\n",
      "\tType of data:          Text\n",
      "\tContains null values:  False\n",
      "\tUnique values:         6\n",
      "\tLongest value:         15 characters\n",
      "\tMost common values:    BLACK (3424x)\n",
      "\t                       WHITE (2976x)\n",
      "\t                       HISPANIC (2540x)\n",
      "\t                       ASIAN (537x)\n",
      "\t                       OTHER (507x)\n",
      "\n",
      " 30. \"Gender\"\n",
      "\n",
      "\tType of data:          Text\n",
      "\tContains null values:  False\n",
      "\tUnique values:         3\n",
      "\tLongest value:         1 characters\n",
      "\tMost common values:    M (7075x)\n",
      "\t                       F (2917x)\n",
      "\t                       U (3x)\n",
      "\n",
      " 31. \"Driver City\"\n",
      "\n",
      "\tType of data:          Text\n",
      "\tContains null values:  True (excluded from calculations)\n",
      "\tUnique values:         394\n",
      "\tLongest value:         18 characters\n",
      "\tMost common values:    SILVER SPRING (2639x)\n",
      "\t                       GAITHERSBURG (1033x)\n",
      "\t                       ROCKVILLE (922x)\n",
      "\t                       GERMANTOWN (770x)\n",
      "\t                       WASHINGTON (334x)\n",
      "\n",
      " 32. \"Driver State\"\n",
      "\n",
      "\tType of data:          Text\n",
      "\tContains null values:  False\n",
      "\tUnique values:         33\n",
      "\tLongest value:         2 characters\n",
      "\tMost common values:    MD (9102x)\n",
      "\t                       DC (353x)\n",
      "\t                       VA (266x)\n",
      "\t                       PA (41x)\n",
      "\t                       NC (33x)\n",
      "\n",
      " 33. \"DL State\"\n",
      "\n",
      "\tType of data:          Text\n",
      "\tContains null values:  True (excluded from calculations)\n",
      "\tUnique values:         45\n",
      "\tLongest value:         2 characters\n",
      "\tMost common values:    MD (8644x)\n",
      "\t                       DC (372x)\n",
      "\t                       VA (287x)\n",
      "\t                       XX (238x)\n",
      "\t                       CA (54x)\n",
      "\n",
      " 34. \"Arrest Type\"\n",
      "\n",
      "\tType of data:          Text\n",
      "\tContains null values:  False\n",
      "\tUnique values:         15\n",
      "\tLongest value:         38 characters\n",
      "\tMost common values:    A - Marked Patrol (8782x)\n",
      "\t                       Q - Marked Laser (595x)\n",
      "\t                       B - Unmarked Patrol (337x)\n",
      "\t                       E - Marked Stationary Radar (61x)\n",
      "\t                       L - Motorcycle (49x)\n",
      "\n",
      " 35. \"Geolocation\"\n",
      "\n",
      "\tType of data:          Text\n",
      "\tContains null values:  True (excluded from calculations)\n",
      "\tUnique values:         4814\n",
      "\tLongest value:         37 characters\n",
      "\tMost common values:    None (740x)\n",
      "\t                       (39.1205783333333, -77.20182) (20x)\n",
      "\t                       (39.0462766666667, -76.990695) (19x)\n",
      "\t                       (39.149085, -77.2148783333333) (17x)\n",
      "\t                       (39.053325, -77.0507433333333) (17x)\n",
      "\n",
      "Row count: 9995\n"
     ]
    }
   ],
   "source": [
    "## we won't be sure of our above conclusions on the data unless we examine a good sample of it. Let's do that for first 10000 of the records\n",
    "!head -n 10000 violations.csv | csvstat"
   ]
  },
  {
   "cell_type": "code",
   "execution_count": 11,
   "metadata": {},
   "outputs": [
    {
     "name": "stdout",
     "output_type": "stream",
     "text": [
      "  1. \"DL State\"\n",
      "\n",
      "\tType of data:          Text\n",
      "\tContains null values:  True (excluded from calculations)\n",
      "\tUnique values:         71\n",
      "\tLongest value:         2 characters\n",
      "\tMost common values:    MD (1123914x)\n",
      "\t                       VA (42858x)\n",
      "\t                       DC (41768x)\n",
      "\t                       XX (17732x)\n",
      "\t                       PA (8091x)\n",
      "\n",
      "Row count: 1292399\n"
     ]
    }
   ],
   "source": [
    "!csvcut -c33 violations.csv | csvstat"
   ]
  },
  {
   "cell_type": "code",
   "execution_count": 3,
   "metadata": {},
   "outputs": [
    {
     "name": "stdout",
     "output_type": "stream",
     "text": [
      " * postgresql://student@/week12\n",
      "Done.\n",
      "Done.\n"
     ]
    },
    {
     "data": {
      "text/plain": [
       "[]"
      ]
     },
     "execution_count": 3,
     "metadata": {},
     "output_type": "execute_result"
    }
   ],
   "source": [
    "%%sql\n",
    "DROP TABLE IF EXISTS violations;\n",
    "\n",
    "CREATE TABLE violations (\n",
    "     Date_Of_Stop     DATE      NOT NULL,\n",
    "     Time_Of_Stop     TIME      NOT NULL,\n",
    "     Agency           TEXT      NOT NULL,\n",
    "     SubAgency        TEXT,\n",
    "     Description      TEXT,\n",
    "     Location         TEXT,\n",
    "     Latitude         NUMERIC,\n",
    "     Longitude        NUMERIC,\n",
    "     Accident         BOOLEAN      NOT NULL,\n",
    "     Belts            BOOLEAN      NOT NULL,\n",
    "     Personal_Injury  BOOLEAN      NOT NULL,\n",
    "     Property_Damage  BOOLEAN      NOT NULL,\n",
    "     Fatal            BOOLEAN      NOT NULL,       \n",
    "     Commercial_License BOOLEAN   NOT NULL,\n",
    "     HAZMAT           BOOLEAN   NOT NULL,\n",
    "     Commercial_Vehicle BOOLEAN   NOT NULL,\n",
    "     Alcohol           BOOLEAN   NOT NULL,\n",
    "     Work_Zone         BOOLEAN   NOT NULL,\n",
    "     State             TEXT,\n",
    "     VehicleType       TEXT   NOT NULL,\n",
    "     Year              NUMERIC,\n",
    "     Make              TEXT,\n",
    "     Model             TEXT,\n",
    "     Color             TEXT,\n",
    "     Violation_Type    TEXT  NOT NULL,\n",
    "     Charge            TEXT  NOT NULL,\n",
    "     Article           TEXT,\n",
    "     Contributed_To_Accident BOOLEAN   NOT NULL,\n",
    "     Race              TEXT  NOT NULL,\n",
    "     Gender            TEXT  NOT NULL,\n",
    "     Driver_City    TEXT,\n",
    "     Driver_State   TEXT,\n",
    "     DL_State       TEXT,\n",
    "     Arrest_Type    TEXT  NOT NULL,\n",
    "     Geolocation    TEXT\n",
    ");"
   ]
  },
  {
   "cell_type": "code",
   "execution_count": 4,
   "metadata": {},
   "outputs": [],
   "source": [
    "!cp violations.csv /tmp/violations.csv"
   ]
  },
  {
   "cell_type": "code",
   "execution_count": 5,
   "metadata": {},
   "outputs": [
    {
     "name": "stdout",
     "output_type": "stream",
     "text": [
      " * postgresql://student@/week12\n",
      "1292399 rows affected.\n"
     ]
    },
    {
     "data": {
      "text/plain": [
       "[]"
      ]
     },
     "execution_count": 5,
     "metadata": {},
     "output_type": "execute_result"
    }
   ],
   "source": [
    "%%sql\n",
    "COPY violations FROM '/tmp/violations.csv'\n",
    "CSV\n",
    "HEADER;"
   ]
  },
  {
   "cell_type": "markdown",
   "metadata": {},
   "source": [
    "# create primary key --id"
   ]
  },
  {
   "cell_type": "code",
   "execution_count": 10,
   "metadata": {},
   "outputs": [
    {
     "name": "stdout",
     "output_type": "stream",
     "text": [
      " * postgresql://student@/week12\n",
      "Done.\n"
     ]
    },
    {
     "data": {
      "text/plain": [
       "[]"
      ]
     },
     "execution_count": 10,
     "metadata": {},
     "output_type": "execute_result"
    }
   ],
   "source": [
    "%%sql\n",
    "ALTER TABLE violations\n",
    " ADD COLUMN id SERIAL PRIMARY KEY"
   ]
  },
  {
   "cell_type": "code",
   "execution_count": 11,
   "metadata": {},
   "outputs": [
    {
     "name": "stdout",
     "output_type": "stream",
     "text": [
      " * postgresql://student@/week12\n",
      "1 rows affected.\n"
     ]
    },
    {
     "data": {
      "text/html": [
       "<table>\n",
       "    <tr>\n",
       "        <th>count</th>\n",
       "    </tr>\n",
       "    <tr>\n",
       "        <td>1292399</td>\n",
       "    </tr>\n",
       "</table>"
      ],
      "text/plain": [
       "[(1292399,)]"
      ]
     },
     "execution_count": 11,
     "metadata": {},
     "output_type": "execute_result"
    }
   ],
   "source": [
    "%%sql\n",
    "SELECT COUNT(*) FROM violations;"
   ]
  },
  {
   "cell_type": "code",
   "execution_count": 10,
   "metadata": {},
   "outputs": [
    {
     "name": "stdout",
     "output_type": "stream",
     "text": [
      "1293488 violations.csv\n"
     ]
    }
   ],
   "source": [
    "!wc -l violations.csv"
   ]
  },
  {
   "cell_type": "code",
   "execution_count": 12,
   "metadata": {},
   "outputs": [
    {
     "name": "stdout",
     "output_type": "stream",
     "text": [
      " * postgresql://student@/week12\n",
      "8074 rows affected.\n",
      "1 rows affected.\n",
      "97 rows affected.\n",
      "65169 rows affected.\n",
      "929 rows affected.\n",
      "95354 rows affected.\n",
      "33 rows affected.\n",
      "8 rows affected.\n",
      "1746 rows affected.\n"
     ]
    },
    {
     "data": {
      "text/plain": [
       "[]"
      ]
     },
     "execution_count": 12,
     "metadata": {},
     "output_type": "execute_result"
    }
   ],
   "source": [
    "%%sql\n",
    "UPDATE violations SET year = 9999 WHERE year IS null;\n",
    "UPDATE violations SET make = 'NA' WHERE make IS null;\n",
    "UPDATE violations SET driver_city = 'NA' WHERE driver_city IS null;\n",
    "UPDATE violations SET article = 'NA' WHERE article IS null;\n",
    "UPDATE violations SET dl_state = 'NA' WHERE dl_state IS null;\n",
    "UPDATE violations SET geolocation = 'NA' WHERE geolocation IS null;\n",
    "UPDATE violations SET model = 'NA' WHERE model IS null;\n",
    "UPDATE violations SET description = 'NA' WHERE description IS null;\n",
    "UPDATE violations SET color = 'NA' WHERE color IS null;"
   ]
  },
  {
   "cell_type": "markdown",
   "metadata": {},
   "source": [
    "### Creating the time dimension table by combine data_of_stop and time_of_stop\n",
    "#### Link data_of_stop dimension table to the violations fact table"
   ]
  },
  {
   "cell_type": "code",
   "execution_count": 13,
   "metadata": {},
   "outputs": [
    {
     "name": "stdout",
     "output_type": "stream",
     "text": [
      " * postgresql://student@/week12\n",
      "5 rows affected.\n"
     ]
    },
    {
     "data": {
      "text/html": [
       "<table>\n",
       "    <tr>\n",
       "        <th>day</th>\n",
       "        <th>year</th>\n",
       "        <th>month_of_year_str</th>\n",
       "        <th>month_of_year</th>\n",
       "        <th>day_of_month</th>\n",
       "        <th>day_of_week_str</th>\n",
       "        <th>day_of_week</th>\n",
       "        <th>is_weekend</th>\n",
       "        <th>is_weekday</th>\n",
       "        <th>quarter_of_year</th>\n",
       "    </tr>\n",
       "    <tr>\n",
       "        <td>2017-08-29</td>\n",
       "        <td>2017</td>\n",
       "        <td>August   </td>\n",
       "        <td>8</td>\n",
       "        <td>29</td>\n",
       "        <td>Tuesday  </td>\n",
       "        <td>3</td>\n",
       "        <td>False</td>\n",
       "        <td>True</td>\n",
       "        <td>3</td>\n",
       "    </tr>\n",
       "    <tr>\n",
       "        <td>2014-12-01</td>\n",
       "        <td>2014</td>\n",
       "        <td>December </td>\n",
       "        <td>12</td>\n",
       "        <td>1</td>\n",
       "        <td>Monday   </td>\n",
       "        <td>2</td>\n",
       "        <td>False</td>\n",
       "        <td>True</td>\n",
       "        <td>4</td>\n",
       "    </tr>\n",
       "    <tr>\n",
       "        <td>2017-08-29</td>\n",
       "        <td>2017</td>\n",
       "        <td>August   </td>\n",
       "        <td>8</td>\n",
       "        <td>29</td>\n",
       "        <td>Tuesday  </td>\n",
       "        <td>3</td>\n",
       "        <td>False</td>\n",
       "        <td>True</td>\n",
       "        <td>3</td>\n",
       "    </tr>\n",
       "    <tr>\n",
       "        <td>2013-10-08</td>\n",
       "        <td>2013</td>\n",
       "        <td>October  </td>\n",
       "        <td>10</td>\n",
       "        <td>8</td>\n",
       "        <td>Tuesday  </td>\n",
       "        <td>3</td>\n",
       "        <td>False</td>\n",
       "        <td>True</td>\n",
       "        <td>4</td>\n",
       "    </tr>\n",
       "    <tr>\n",
       "        <td>2014-02-14</td>\n",
       "        <td>2014</td>\n",
       "        <td>February </td>\n",
       "        <td>2</td>\n",
       "        <td>14</td>\n",
       "        <td>Friday   </td>\n",
       "        <td>6</td>\n",
       "        <td>False</td>\n",
       "        <td>True</td>\n",
       "        <td>1</td>\n",
       "    </tr>\n",
       "</table>"
      ],
      "text/plain": [
       "[('2017-08-29', 2017, 'August   ', 8, 29, 'Tuesday  ', 3, False, True, 3),\n",
       " ('2014-12-01', 2014, 'December ', 12, 1, 'Monday   ', 2, False, True, 4),\n",
       " ('2017-08-29', 2017, 'August   ', 8, 29, 'Tuesday  ', 3, False, True, 3),\n",
       " ('2013-10-08', 2013, 'October  ', 10, 8, 'Tuesday  ', 3, False, True, 4),\n",
       " ('2014-02-14', 2014, 'February ', 2, 14, 'Friday   ', 6, False, True, 1)]"
      ]
     },
     "execution_count": 13,
     "metadata": {},
     "output_type": "execute_result"
    }
   ],
   "source": [
    "%%sql\n",
    "SELECT TO_CHAR(date_of_stop, 'YYYY-MM-DD') AS day, \n",
    "    CAST(TO_CHAR(date_of_stop, 'YYYY') AS INTEGER) AS year,\n",
    "    TO_CHAR(date_of_stop, 'Month') AS month_of_year_str,\n",
    "    CAST(TO_CHAR(date_of_stop, 'MM') AS INTEGER) AS month_of_year,\n",
    "    CAST(TO_CHAR(date_of_stop, 'DD') AS INTEGER) AS day_of_month,\n",
    "    TO_CHAR(date_of_stop, 'Day') AS day_of_week_str,\n",
    "    CAST(TO_CHAR(date_of_stop, 'D') AS INTEGER) AS day_of_week,\n",
    "    CASE WHEN CAST(TO_CHAR(date_of_stop, 'D') AS INTEGER) IN (1,7)\n",
    "        THEN TRUE\n",
    "        ELSE FALSE\n",
    "    END AS is_weekend,\n",
    "    CASE WHEN CAST(TO_CHAR(date_of_stop, 'D') AS INTEGER) NOT IN (1,7)\n",
    "        THEN TRUE \n",
    "        ELSE FALSE\n",
    "    END AS is_weekday,\n",
    "    CAST(TO_CHAR(date_of_stop, 'Q') AS INTEGER) AS quarter_of_year\n",
    "FROM violations\n",
    "LIMIT 5;"
   ]
  },
  {
   "cell_type": "markdown",
   "metadata": {},
   "source": [
    "creating dimension table date"
   ]
  },
  {
   "cell_type": "code",
   "execution_count": 14,
   "metadata": {},
   "outputs": [
    {
     "name": "stdout",
     "output_type": "stream",
     "text": [
      " * postgresql://student@/week12\n",
      "Done.\n",
      "Done.\n"
     ]
    },
    {
     "data": {
      "text/plain": [
       "[]"
      ]
     },
     "execution_count": 14,
     "metadata": {},
     "output_type": "execute_result"
    }
   ],
   "source": [
    "\n",
    "%%sql\n",
    "DROP TABLE IF EXISTS date;\n",
    "\n",
    "CREATE TABLE date (\n",
    "    key SERIAL PRIMARY KEY,\n",
    "    day CHAR(10),\n",
    "    year INTEGER,\n",
    "    month_of_year_str VARCHAR(12),\n",
    "    month_of_year INTEGER,\n",
    "    day_of_month INTEGER,\n",
    "    day_of_week_str CHAR(9),\n",
    "    day_of_week INTEGER,\n",
    "    is_weekend BOOLEAN,\n",
    "    is_weekday BOOLEAN,\n",
    "    quarter_of_year INTEGER\n",
    ");"
   ]
  },
  {
   "cell_type": "markdown",
   "metadata": {},
   "source": [
    "insert value in to date table"
   ]
  },
  {
   "cell_type": "code",
   "execution_count": 15,
   "metadata": {},
   "outputs": [
    {
     "name": "stdout",
     "output_type": "stream",
     "text": [
      " * postgresql://student@/week12\n",
      "1292399 rows affected.\n"
     ]
    },
    {
     "data": {
      "text/plain": [
       "[]"
      ]
     },
     "execution_count": 15,
     "metadata": {},
     "output_type": "execute_result"
    }
   ],
   "source": [
    "\n",
    "%%sql\n",
    "INSERT INTO date (day, year, month_of_year_str, month_of_year, day_of_month, \n",
    "                  day_of_week_str, day_of_week, is_weekend, is_weekday, \n",
    "                  quarter_of_year)\n",
    "SELECT TO_CHAR(date_of_stop, 'YYYY-MM-DD') AS day, \n",
    "    CAST(TO_CHAR(date_of_stop, 'YYYY') AS INTEGER) AS year,\n",
    "    TO_CHAR(date_of_stop, 'Month') AS month_of_year_str,\n",
    "    CAST(TO_CHAR(date_of_stop, 'MM') AS INTEGER) AS month_of_year,\n",
    "    CAST(TO_CHAR(date_of_stop, 'DD') AS INTEGER) AS day_of_month,\n",
    "    TO_CHAR(date_of_stop, 'Day') AS day_of_week_str,\n",
    "    CAST(TO_CHAR(date_of_stop, 'D') AS INTEGER) AS day_of_week,\n",
    "    CASE WHEN CAST(TO_CHAR(date_of_stop, 'D') AS INTEGER) IN (1,7)\n",
    "        THEN TRUE\n",
    "        ELSE FALSE\n",
    "    END AS is_weekend,\n",
    "    CASE WHEN CAST(TO_CHAR(date_of_stop, 'D') AS INTEGER) NOT IN (1,7)\n",
    "        THEN TRUE \n",
    "        ELSE FALSE\n",
    "    END AS is_weekday,\n",
    "    CAST(TO_CHAR(date_of_stop, 'Q') AS INTEGER) AS quarter_of_year\n",
    "FROM violations"
   ]
  },
  {
   "cell_type": "code",
   "execution_count": 16,
   "metadata": {},
   "outputs": [
    {
     "name": "stdout",
     "output_type": "stream",
     "text": [
      " * postgresql://student@/week12\n",
      "Done.\n"
     ]
    },
    {
     "data": {
      "text/plain": [
       "[]"
      ]
     },
     "execution_count": 16,
     "metadata": {},
     "output_type": "execute_result"
    }
   ],
   "source": [
    "%%sql\n",
    "ALTER TABLE violations\n",
    "ADD COLUMN date_key INTEGER,\n",
    "ADD CONSTRAINT fk_date\n",
    "    FOREIGN KEY (date_key)\n",
    "    REFERENCES date (key);"
   ]
  },
  {
   "cell_type": "code",
   "execution_count": 17,
   "metadata": {},
   "outputs": [
    {
     "name": "stdout",
     "output_type": "stream",
     "text": [
      " * postgresql://student@/week12\n",
      "1292399 rows affected.\n"
     ]
    },
    {
     "data": {
      "text/plain": [
       "[]"
      ]
     },
     "execution_count": 17,
     "metadata": {},
     "output_type": "execute_result"
    }
   ],
   "source": [
    "%%sql\n",
    "UPDATE violations\n",
    "SET date_key = date.key\n",
    "FROM date\n",
    "WHERE violations.id = date.key;"
   ]
  },
  {
   "cell_type": "markdown",
   "metadata": {},
   "source": [
    "### Creating the date dimension table and hour dimension table\n",
    "#### Link hour dimension table to the violations fact table"
   ]
  },
  {
   "cell_type": "code",
   "execution_count": 18,
   "metadata": {},
   "outputs": [
    {
     "name": "stdout",
     "output_type": "stream",
     "text": [
      " * postgresql://student@/week12\n",
      "5 rows affected.\n"
     ]
    },
    {
     "data": {
      "text/html": [
       "<table>\n",
       "    <tr>\n",
       "        <th>time</th>\n",
       "        <th>hour</th>\n",
       "        <th>minute</th>\n",
       "    </tr>\n",
       "    <tr>\n",
       "        <td>10:19:00</td>\n",
       "        <td>10</td>\n",
       "        <td>19</td>\n",
       "    </tr>\n",
       "    <tr>\n",
       "        <td>12:52:00</td>\n",
       "        <td>12</td>\n",
       "        <td>52</td>\n",
       "    </tr>\n",
       "    <tr>\n",
       "        <td>09:22:00</td>\n",
       "        <td>9</td>\n",
       "        <td>22</td>\n",
       "    </tr>\n",
       "    <tr>\n",
       "        <td>13:23:00</td>\n",
       "        <td>13</td>\n",
       "        <td>23</td>\n",
       "    </tr>\n",
       "    <tr>\n",
       "        <td>20:10:00</td>\n",
       "        <td>20</td>\n",
       "        <td>10</td>\n",
       "    </tr>\n",
       "</table>"
      ],
      "text/plain": [
       "[('10:19:00', 10, 19),\n",
       " ('12:52:00', 12, 52),\n",
       " ('09:22:00', 9, 22),\n",
       " ('13:23:00', 13, 23),\n",
       " ('20:10:00', 20, 10)]"
      ]
     },
     "execution_count": 18,
     "metadata": {},
     "output_type": "execute_result"
    }
   ],
   "source": [
    "%%sql\n",
    "SELECT TO_CHAR(time_of_stop, 'hh24:MI:ss') AS time,\n",
    "    CAST(TO_CHAR(time_of_stop, 'hh24') AS INTEGER) AS hour,\n",
    "    CAST(TO_CHAR(time_of_stop, 'MI') AS INTEGER) AS minute\n",
    "FROM violations\n",
    "LIMIT 5;"
   ]
  },
  {
   "cell_type": "markdown",
   "metadata": {},
   "source": [
    "creating dimension table time_of_stop"
   ]
  },
  {
   "cell_type": "code",
   "execution_count": 19,
   "metadata": {},
   "outputs": [
    {
     "name": "stdout",
     "output_type": "stream",
     "text": [
      " * postgresql://student@/week12\n",
      "Done.\n",
      "Done.\n"
     ]
    },
    {
     "data": {
      "text/plain": [
       "[]"
      ]
     },
     "execution_count": 19,
     "metadata": {},
     "output_type": "execute_result"
    }
   ],
   "source": [
    "%%sql\n",
    "DROP TABLE IF EXISTS hour;\n",
    "\n",
    "CREATE TABLE hour (\n",
    "    key SERIAL PRIMARY KEY,\n",
    "    time CHAR(10),\n",
    "    hour INTEGER,\n",
    "    minute INTEGER\n",
    ");"
   ]
  },
  {
   "cell_type": "markdown",
   "metadata": {},
   "source": [
    "insert values into time_of_stop table"
   ]
  },
  {
   "cell_type": "code",
   "execution_count": 20,
   "metadata": {},
   "outputs": [
    {
     "name": "stdout",
     "output_type": "stream",
     "text": [
      " * postgresql://student@/week12\n",
      "1292399 rows affected.\n"
     ]
    },
    {
     "data": {
      "text/plain": [
       "[]"
      ]
     },
     "execution_count": 20,
     "metadata": {},
     "output_type": "execute_result"
    }
   ],
   "source": [
    "%%sql\n",
    "INSERT INTO hour (time, hour, minute)\n",
    "SELECT TO_CHAR(time_of_stop, 'hh24:MI:ss') AS time,\n",
    "    CAST(TO_CHAR(time_of_stop, 'hh24') AS INTEGER) AS hour,\n",
    "    CAST(TO_CHAR(time_of_stop, 'MI') AS INTEGER) AS minute\n",
    "FROM violations"
   ]
  },
  {
   "cell_type": "code",
   "execution_count": 21,
   "metadata": {},
   "outputs": [
    {
     "name": "stdout",
     "output_type": "stream",
     "text": [
      " * postgresql://student@/week12\n",
      "Done.\n"
     ]
    },
    {
     "data": {
      "text/plain": [
       "[]"
      ]
     },
     "execution_count": 21,
     "metadata": {},
     "output_type": "execute_result"
    }
   ],
   "source": [
    "%%sql\n",
    "ALTER TABLE violations\n",
    "ADD COLUMN hour_key INTEGER,\n",
    "ADD CONSTRAINT fk_hour\n",
    "    FOREIGN KEY (hour_key)\n",
    "    REFERENCES hour (key);"
   ]
  },
  {
   "cell_type": "code",
   "execution_count": 22,
   "metadata": {},
   "outputs": [
    {
     "name": "stdout",
     "output_type": "stream",
     "text": [
      " * postgresql://student@/week12\n",
      "1292399 rows affected.\n"
     ]
    },
    {
     "data": {
      "text/plain": [
       "[]"
      ]
     },
     "execution_count": 22,
     "metadata": {},
     "output_type": "execute_result"
    }
   ],
   "source": [
    "%%sql\n",
    "UPDATE violations\n",
    "SET hour_key = hour.key\n",
    "FROM hour\n",
    "WHERE violations.id = hour.key;"
   ]
  },
  {
   "cell_type": "markdown",
   "metadata": {},
   "source": [
    "### Creating the vehicle dimension table\n",
    "#### Link vehicle dimension table to the violations fact table"
   ]
  },
  {
   "cell_type": "code",
   "execution_count": 23,
   "metadata": {},
   "outputs": [
    {
     "name": "stdout",
     "output_type": "stream",
     "text": [
      " * postgresql://student@/week12\n",
      "5 rows affected.\n"
     ]
    },
    {
     "data": {
      "text/html": [
       "<table>\n",
       "    <tr>\n",
       "        <th>color</th>\n",
       "        <th>commercial_vehicle</th>\n",
       "        <th>make</th>\n",
       "        <th>model</th>\n",
       "        <th>state</th>\n",
       "        <th>vehicletype</th>\n",
       "        <th>year</th>\n",
       "    </tr>\n",
       "    <tr>\n",
       "        <td>GREEN</td>\n",
       "        <td>False</td>\n",
       "        <td>TOYOTA</td>\n",
       "        <td>COROLLA</td>\n",
       "        <td>VA</td>\n",
       "        <td>02 - Automobile</td>\n",
       "        <td>2001</td>\n",
       "    </tr>\n",
       "    <tr>\n",
       "        <td>SILVER</td>\n",
       "        <td>False</td>\n",
       "        <td>HONDA</td>\n",
       "        <td>ACCORD</td>\n",
       "        <td>MD</td>\n",
       "        <td>02 - Automobile</td>\n",
       "        <td>2001</td>\n",
       "    </tr>\n",
       "    <tr>\n",
       "        <td>WHITE</td>\n",
       "        <td>False</td>\n",
       "        <td>DODG</td>\n",
       "        <td>DAKOTA</td>\n",
       "        <td>MD</td>\n",
       "        <td>02 - Automobile</td>\n",
       "        <td>1998</td>\n",
       "    </tr>\n",
       "    <tr>\n",
       "        <td>BLACK</td>\n",
       "        <td>False</td>\n",
       "        <td>FORD</td>\n",
       "        <td>PICKUP</td>\n",
       "        <td>MD</td>\n",
       "        <td>02 - Automobile</td>\n",
       "        <td>1993</td>\n",
       "    </tr>\n",
       "    <tr>\n",
       "        <td>BLACK</td>\n",
       "        <td>False</td>\n",
       "        <td>CADI</td>\n",
       "        <td>STS</td>\n",
       "        <td>MD</td>\n",
       "        <td>02 - Automobile</td>\n",
       "        <td>2005</td>\n",
       "    </tr>\n",
       "</table>"
      ],
      "text/plain": [
       "[('GREEN', False, 'TOYOTA', 'COROLLA', 'VA', '02 - Automobile', Decimal('2001')),\n",
       " ('SILVER', False, 'HONDA', 'ACCORD', 'MD', '02 - Automobile', Decimal('2001')),\n",
       " ('WHITE', False, 'DODG', 'DAKOTA', 'MD', '02 - Automobile', Decimal('1998')),\n",
       " ('BLACK', False, 'FORD', 'PICKUP', 'MD', '02 - Automobile', Decimal('1993')),\n",
       " ('BLACK', False, 'CADI', 'STS', 'MD', '02 - Automobile', Decimal('2005'))]"
      ]
     },
     "execution_count": 23,
     "metadata": {},
     "output_type": "execute_result"
    }
   ],
   "source": [
    "%%sql\n",
    "SELECT color, commercial_vehicle,make, model, state, vehicletype, year\n",
    "FROM violations\n",
    "LIMIT 5;"
   ]
  },
  {
   "cell_type": "code",
   "execution_count": 24,
   "metadata": {},
   "outputs": [
    {
     "name": "stdout",
     "output_type": "stream",
     "text": [
      " * postgresql://student@/week12\n",
      "Done.\n",
      "Done.\n"
     ]
    },
    {
     "data": {
      "text/plain": [
       "[]"
      ]
     },
     "execution_count": 24,
     "metadata": {},
     "output_type": "execute_result"
    }
   ],
   "source": [
    "%%sql\n",
    "DROP TABLE IF EXISTS vehicle;\n",
    "\n",
    "CREATE TABLE vehicle (\n",
    "    key SERIAL PRIMARY KEY,\n",
    "    color CHAR(11),\n",
    "    commericial_vehicle BOOLEAN,\n",
    "    make CHAR(20),\n",
    "    model CHAR(25),\n",
    "    state CHAR(2),\n",
    "    vehicletype CHAR(25),\n",
    "    year INTEGER\n",
    ");"
   ]
  },
  {
   "cell_type": "code",
   "execution_count": null,
   "metadata": {},
   "outputs": [],
   "source": [
    "## From the above, the total number of characters for make number was 15. Let's make sure. \n",
    "!csvcut -c22 violations.csv | csvstat"
   ]
  },
  {
   "cell_type": "code",
   "execution_count": null,
   "metadata": {},
   "outputs": [],
   "source": [
    "## From the above, the total number of characters for vehicletype number was 15. Let's make sure. \n",
    "!csvcut -c20 violations.csv | csvstat"
   ]
  },
  {
   "cell_type": "code",
   "execution_count": 25,
   "metadata": {},
   "outputs": [
    {
     "name": "stdout",
     "output_type": "stream",
     "text": [
      " * postgresql://student@/week12\n",
      "1292399 rows affected.\n"
     ]
    },
    {
     "data": {
      "text/plain": [
       "[]"
      ]
     },
     "execution_count": 25,
     "metadata": {},
     "output_type": "execute_result"
    }
   ],
   "source": [
    "%%sql\n",
    "INSERT INTO vehicle (color,commericial_vehicle,make, model,state, vehicletype, year)\n",
    "SELECT color,commercial_vehicle,make, model,state, vehicletype, year\n",
    "FROM violations;"
   ]
  },
  {
   "cell_type": "code",
   "execution_count": 26,
   "metadata": {},
   "outputs": [
    {
     "name": "stdout",
     "output_type": "stream",
     "text": [
      " * postgresql://student@/week12\n",
      "Done.\n"
     ]
    },
    {
     "data": {
      "text/plain": [
       "[]"
      ]
     },
     "execution_count": 26,
     "metadata": {},
     "output_type": "execute_result"
    }
   ],
   "source": [
    "%%sql\n",
    "ALTER TABLE violations\n",
    "ADD COLUMN vehicle_key INTEGER,\n",
    "ADD CONSTRAINT fk_vehicle\n",
    "    FOREIGN KEY (vehicle_key)\n",
    "    REFERENCES vehicle (key);"
   ]
  },
  {
   "cell_type": "code",
   "execution_count": 27,
   "metadata": {},
   "outputs": [
    {
     "name": "stdout",
     "output_type": "stream",
     "text": [
      " * postgresql://student@/week12\n",
      "1292399 rows affected.\n"
     ]
    },
    {
     "data": {
      "text/plain": [
       "[]"
      ]
     },
     "execution_count": 27,
     "metadata": {},
     "output_type": "execute_result"
    }
   ],
   "source": [
    "%%sql\n",
    "UPDATE violations\n",
    "SET vehicle_key = vehicle.key\n",
    "FROM vehicle\n",
    "WHERE violations.id = vehicle.key;"
   ]
  },
  {
   "cell_type": "markdown",
   "metadata": {},
   "source": [
    "### Creating the personal information table\n",
    "#### Link personal information table to the violations fact table"
   ]
  },
  {
   "cell_type": "code",
   "execution_count": 28,
   "metadata": {},
   "outputs": [
    {
     "name": "stdout",
     "output_type": "stream",
     "text": [
      " * postgresql://student@/week12\n",
      "5 rows affected.\n"
     ]
    },
    {
     "data": {
      "text/html": [
       "<table>\n",
       "    <tr>\n",
       "        <th>commercial_license</th>\n",
       "        <th>dl_state</th>\n",
       "        <th>driver_state</th>\n",
       "        <th>driver_city</th>\n",
       "        <th>gender</th>\n",
       "        <th>race</th>\n",
       "    </tr>\n",
       "    <tr>\n",
       "        <td>False</td>\n",
       "        <td>WV</td>\n",
       "        <td>MD</td>\n",
       "        <td>POINT OF ROCK</td>\n",
       "        <td>M</td>\n",
       "        <td>WHITE</td>\n",
       "    </tr>\n",
       "    <tr>\n",
       "        <td>False</td>\n",
       "        <td>VA</td>\n",
       "        <td>VA</td>\n",
       "        <td>ARLINGTON</td>\n",
       "        <td>M</td>\n",
       "        <td>HISPANIC</td>\n",
       "    </tr>\n",
       "    <tr>\n",
       "        <td>False</td>\n",
       "        <td>MD</td>\n",
       "        <td>MD</td>\n",
       "        <td>SILVER SPRING</td>\n",
       "        <td>F</td>\n",
       "        <td>WHITE</td>\n",
       "    </tr>\n",
       "    <tr>\n",
       "        <td>False</td>\n",
       "        <td>MD</td>\n",
       "        <td>MD</td>\n",
       "        <td>DERWOOD</td>\n",
       "        <td>M</td>\n",
       "        <td>WHITE</td>\n",
       "    </tr>\n",
       "    <tr>\n",
       "        <td>False</td>\n",
       "        <td>VA</td>\n",
       "        <td>VA</td>\n",
       "        <td>FAIRFAX STATION</td>\n",
       "        <td>F</td>\n",
       "        <td>WHITE</td>\n",
       "    </tr>\n",
       "</table>"
      ],
      "text/plain": [
       "[(False, 'WV', 'MD', 'POINT OF ROCK', 'M', 'WHITE'),\n",
       " (False, 'VA', 'VA', 'ARLINGTON', 'M', 'HISPANIC'),\n",
       " (False, 'MD', 'MD', 'SILVER SPRING', 'F', 'WHITE'),\n",
       " (False, 'MD', 'MD', 'DERWOOD', 'M', 'WHITE'),\n",
       " (False, 'VA', 'VA', 'FAIRFAX STATION', 'F', 'WHITE')]"
      ]
     },
     "execution_count": 28,
     "metadata": {},
     "output_type": "execute_result"
    }
   ],
   "source": [
    "%%sql\n",
    "SELECT commercial_license, dl_state, driver_state, driver_city, gender, race\n",
    "FROM violations\n",
    "LIMIT 5;"
   ]
  },
  {
   "cell_type": "code",
   "execution_count": 29,
   "metadata": {},
   "outputs": [
    {
     "name": "stdout",
     "output_type": "stream",
     "text": [
      " * postgresql://student@/week12\n",
      "Done.\n",
      "Done.\n"
     ]
    },
    {
     "data": {
      "text/plain": [
       "[]"
      ]
     },
     "execution_count": 29,
     "metadata": {},
     "output_type": "execute_result"
    }
   ],
   "source": [
    "%%sql\n",
    "DROP TABLE IF EXISTS pinformation;\n",
    "\n",
    "CREATE TABLE pinformation (\n",
    "    key SERIAL PRIMARY KEY,\n",
    "    commercial_license BOOLEAN, \n",
    "    dl_state CHAR(2), \n",
    "    driver_state CHAR(2), \n",
    "    driver_city TEXT, \n",
    "    gender CHAR(1), \n",
    "    race CHAR(15)\n",
    ");"
   ]
  },
  {
   "cell_type": "code",
   "execution_count": 10,
   "metadata": {},
   "outputs": [
    {
     "name": "stdout",
     "output_type": "stream",
     "text": [
      "  1. \"DL State\"\n",
      "\n",
      "\tType of data:          Text\n",
      "\tContains null values:  True (excluded from calculations)\n",
      "\tUnique values:         71\n",
      "\tLongest value:         2 characters\n",
      "\tMost common values:    MD (1123914x)\n",
      "\t                       VA (42858x)\n",
      "\t                       DC (41768x)\n",
      "\t                       XX (17732x)\n",
      "\t                       PA (8091x)\n",
      "\n",
      "Row count: 1292399\n"
     ]
    }
   ],
   "source": [
    "!csvcut -c33 violations.csv | csvstat"
   ]
  },
  {
   "cell_type": "code",
   "execution_count": 30,
   "metadata": {},
   "outputs": [
    {
     "name": "stdout",
     "output_type": "stream",
     "text": [
      " * postgresql://student@/week12\n",
      "1292399 rows affected.\n"
     ]
    },
    {
     "data": {
      "text/plain": [
       "[]"
      ]
     },
     "execution_count": 30,
     "metadata": {},
     "output_type": "execute_result"
    }
   ],
   "source": [
    "%%sql\n",
    "INSERT INTO pinformation (commercial_license, dl_state, driver_state, driver_city, gender, race)\n",
    "SELECT commercial_license, dl_state, driver_state, driver_city, gender, race\n",
    "FROM violations;"
   ]
  },
  {
   "cell_type": "code",
   "execution_count": 31,
   "metadata": {},
   "outputs": [
    {
     "name": "stdout",
     "output_type": "stream",
     "text": [
      " * postgresql://student@/week12\n",
      "Done.\n"
     ]
    },
    {
     "data": {
      "text/plain": [
       "[]"
      ]
     },
     "execution_count": 31,
     "metadata": {},
     "output_type": "execute_result"
    }
   ],
   "source": [
    "%%sql\n",
    "ALTER TABLE violations\n",
    "ADD COLUMN pinformation_key INTEGER,\n",
    "ADD CONSTRAINT fk_pinformation\n",
    "    FOREIGN KEY (pinformation_key)\n",
    "    REFERENCES pinformation (key);"
   ]
  },
  {
   "cell_type": "code",
   "execution_count": 32,
   "metadata": {},
   "outputs": [
    {
     "name": "stdout",
     "output_type": "stream",
     "text": [
      " * postgresql://student@/week12\n",
      "1292399 rows affected.\n"
     ]
    },
    {
     "data": {
      "text/plain": [
       "[]"
      ]
     },
     "execution_count": 32,
     "metadata": {},
     "output_type": "execute_result"
    }
   ],
   "source": [
    "%%sql\n",
    "UPDATE violations\n",
    "SET pinformation_key = pinformation.key\n",
    "FROM pinformation\n",
    "WHERE violations.id = pinformation.key;"
   ]
  },
  {
   "cell_type": "markdown",
   "metadata": {},
   "source": [
    "## Create Consequence Table"
   ]
  },
  {
   "cell_type": "code",
   "execution_count": 33,
   "metadata": {},
   "outputs": [
    {
     "name": "stdout",
     "output_type": "stream",
     "text": [
      " * postgresql://student@/week12\n",
      "Done.\n",
      "Done.\n"
     ]
    },
    {
     "data": {
      "text/plain": [
       "[]"
      ]
     },
     "execution_count": 33,
     "metadata": {},
     "output_type": "execute_result"
    }
   ],
   "source": [
    "%%sql\n",
    "DROP TABLE IF EXISTS consequence;\n",
    "\n",
    "CREATE TABLE consequence (\n",
    "    key SERIAL PRIMARY KEY,\n",
    "    contributed_to_accident BOOLEAN, \n",
    "    fatal BOOLEAN, \n",
    "    personal_injury BOOLEAN, \n",
    "    property_damage BOOLEAN\n",
    ");"
   ]
  },
  {
   "cell_type": "code",
   "execution_count": 34,
   "metadata": {},
   "outputs": [
    {
     "name": "stdout",
     "output_type": "stream",
     "text": [
      " * postgresql://student@/week12\n",
      "5 rows affected.\n"
     ]
    },
    {
     "data": {
      "text/html": [
       "<table>\n",
       "    <tr>\n",
       "        <th>contributed_to_accident</th>\n",
       "        <th>fatal</th>\n",
       "        <th>personal_injury</th>\n",
       "        <th>property_damage</th>\n",
       "    </tr>\n",
       "    <tr>\n",
       "        <td>False</td>\n",
       "        <td>False</td>\n",
       "        <td>False</td>\n",
       "        <td>False</td>\n",
       "    </tr>\n",
       "    <tr>\n",
       "        <td>False</td>\n",
       "        <td>False</td>\n",
       "        <td>False</td>\n",
       "        <td>True</td>\n",
       "    </tr>\n",
       "    <tr>\n",
       "        <td>False</td>\n",
       "        <td>False</td>\n",
       "        <td>False</td>\n",
       "        <td>True</td>\n",
       "    </tr>\n",
       "    <tr>\n",
       "        <td>False</td>\n",
       "        <td>False</td>\n",
       "        <td>False</td>\n",
       "        <td>False</td>\n",
       "    </tr>\n",
       "    <tr>\n",
       "        <td>False</td>\n",
       "        <td>False</td>\n",
       "        <td>False</td>\n",
       "        <td>False</td>\n",
       "    </tr>\n",
       "</table>"
      ],
      "text/plain": [
       "[(False, False, False, False),\n",
       " (False, False, False, True),\n",
       " (False, False, False, True),\n",
       " (False, False, False, False),\n",
       " (False, False, False, False)]"
      ]
     },
     "execution_count": 34,
     "metadata": {},
     "output_type": "execute_result"
    }
   ],
   "source": [
    "%%sql\n",
    "SELECT contributed_to_accident,fatal,personal_injury,property_damage\n",
    "FROM violations\n",
    "LIMIT 5;"
   ]
  },
  {
   "cell_type": "code",
   "execution_count": 35,
   "metadata": {},
   "outputs": [
    {
     "name": "stdout",
     "output_type": "stream",
     "text": [
      " * postgresql://student@/week12\n",
      "1292399 rows affected.\n"
     ]
    },
    {
     "data": {
      "text/plain": [
       "[]"
      ]
     },
     "execution_count": 35,
     "metadata": {},
     "output_type": "execute_result"
    }
   ],
   "source": [
    "%%sql\n",
    "INSERT INTO consequence (contributed_to_accident,fatal,personal_injury,property_damage)\n",
    "SELECT contributed_to_accident,fatal,personal_injury,property_damage\n",
    "FROM violations;"
   ]
  },
  {
   "cell_type": "code",
   "execution_count": 36,
   "metadata": {},
   "outputs": [
    {
     "name": "stdout",
     "output_type": "stream",
     "text": [
      " * postgresql://student@/week12\n",
      "Done.\n"
     ]
    },
    {
     "data": {
      "text/plain": [
       "[]"
      ]
     },
     "execution_count": 36,
     "metadata": {},
     "output_type": "execute_result"
    }
   ],
   "source": [
    "%%sql\n",
    "ALTER TABLE violations\n",
    "ADD COLUMN consequence_key INTEGER,\n",
    "ADD CONSTRAINT fk_consequence\n",
    "    FOREIGN KEY (consequence_key)\n",
    "    REFERENCES date (key);"
   ]
  },
  {
   "cell_type": "code",
   "execution_count": 37,
   "metadata": {},
   "outputs": [
    {
     "name": "stdout",
     "output_type": "stream",
     "text": [
      " * postgresql://student@/week12\n",
      "1292399 rows affected.\n"
     ]
    },
    {
     "data": {
      "text/plain": [
       "[]"
      ]
     },
     "execution_count": 37,
     "metadata": {},
     "output_type": "execute_result"
    }
   ],
   "source": [
    "%%sql\n",
    "UPDATE violations\n",
    "SET consequence_key = consequence.key\n",
    "FROM consequence\n",
    "WHERE violations.id = consequence.key;"
   ]
  },
  {
   "cell_type": "markdown",
   "metadata": {},
   "source": [
    "### Create Location Table"
   ]
  },
  {
   "cell_type": "code",
   "execution_count": 38,
   "metadata": {},
   "outputs": [
    {
     "name": "stdout",
     "output_type": "stream",
     "text": [
      " * postgresql://student@/week12\n",
      "Done.\n",
      "Done.\n"
     ]
    },
    {
     "data": {
      "text/plain": [
       "[]"
      ]
     },
     "execution_count": 38,
     "metadata": {},
     "output_type": "execute_result"
    }
   ],
   "source": [
    "%%sql\n",
    "DROP TABLE IF EXISTS location;\n",
    "\n",
    "CREATE TABLE location (\n",
    "    key SERIAL PRIMARY KEY,\n",
    "    geolocation    TEXT, \n",
    "    latitude  NUMERIC , \n",
    "    longitude NUMERIC, \n",
    "    Location         TEXT \n",
    ");"
   ]
  },
  {
   "cell_type": "code",
   "execution_count": 39,
   "metadata": {},
   "outputs": [
    {
     "name": "stdout",
     "output_type": "stream",
     "text": [
      " * postgresql://student@/week12\n",
      "5 rows affected.\n"
     ]
    },
    {
     "data": {
      "text/html": [
       "<table>\n",
       "    <tr>\n",
       "        <th>geolocation</th>\n",
       "        <th>latitude</th>\n",
       "        <th>longitude</th>\n",
       "        <th>location</th>\n",
       "    </tr>\n",
       "    <tr>\n",
       "        <td>(39.2348434333333, -77.28153995)</td>\n",
       "        <td>39.2348434333333</td>\n",
       "        <td>-77.28153995</td>\n",
       "        <td>GATEWAY CENTER DR @ CLARKSBURG RD</td>\n",
       "    </tr>\n",
       "    <tr>\n",
       "        <td>(38.9827307333333, -77.1007551666667)</td>\n",
       "        <td>38.9827307333333</td>\n",
       "        <td>-77.1007551666667</td>\n",
       "        <td>CLARENDON RD @ ELM ST. N/</td>\n",
       "    </tr>\n",
       "    <tr>\n",
       "        <td>(39.06914295, -76.9696780666667)</td>\n",
       "        <td>39.06914295</td>\n",
       "        <td>-76.9696780666667</td>\n",
       "        <td>2068 HARLEQUIN TERRACE</td>\n",
       "    </tr>\n",
       "    <tr>\n",
       "        <td>(38.9835782, -77.09310515)</td>\n",
       "        <td>38.9835782</td>\n",
       "        <td>-77.09310515</td>\n",
       "        <td>NORFOLK AVE /  ST ELMO AVE</td>\n",
       "    </tr>\n",
       "    <tr>\n",
       "        <td>(38.981725, -77.0927566666667)</td>\n",
       "        <td>38.981725</td>\n",
       "        <td>-77.0927566666667</td>\n",
       "        <td>WISCONSIN AVE@ ELM ST</td>\n",
       "    </tr>\n",
       "</table>"
      ],
      "text/plain": [
       "[('(39.2348434333333, -77.28153995)', Decimal('39.2348434333333'), Decimal('-77.28153995'), 'GATEWAY CENTER DR @ CLARKSBURG RD'),\n",
       " ('(38.9827307333333, -77.1007551666667)', Decimal('38.9827307333333'), Decimal('-77.1007551666667'), 'CLARENDON RD @ ELM ST. N/'),\n",
       " ('(39.06914295, -76.9696780666667)', Decimal('39.06914295'), Decimal('-76.9696780666667'), '2068 HARLEQUIN TERRACE'),\n",
       " ('(38.9835782, -77.09310515)', Decimal('38.9835782'), Decimal('-77.09310515'), 'NORFOLK AVE /  ST ELMO AVE'),\n",
       " ('(38.981725, -77.0927566666667)', Decimal('38.981725'), Decimal('-77.0927566666667'), 'WISCONSIN AVE@ ELM ST')]"
      ]
     },
     "execution_count": 39,
     "metadata": {},
     "output_type": "execute_result"
    }
   ],
   "source": [
    "%%sql\n",
    "SELECT geolocation,latitude,longitude,location\n",
    "FROM violations\n",
    "LIMIT 5;"
   ]
  },
  {
   "cell_type": "code",
   "execution_count": 40,
   "metadata": {},
   "outputs": [
    {
     "name": "stdout",
     "output_type": "stream",
     "text": [
      " * postgresql://student@/week12\n",
      "1292399 rows affected.\n"
     ]
    },
    {
     "data": {
      "text/plain": [
       "[]"
      ]
     },
     "execution_count": 40,
     "metadata": {},
     "output_type": "execute_result"
    }
   ],
   "source": [
    "%%sql\n",
    "INSERT INTO location (geolocation,latitude,longitude,location)\n",
    "SELECT geolocation,latitude,longitude,location\n",
    "FROM violations;"
   ]
  },
  {
   "cell_type": "code",
   "execution_count": 41,
   "metadata": {},
   "outputs": [
    {
     "name": "stdout",
     "output_type": "stream",
     "text": [
      " * postgresql://student@/week12\n",
      "Done.\n"
     ]
    },
    {
     "data": {
      "text/plain": [
       "[]"
      ]
     },
     "execution_count": 41,
     "metadata": {},
     "output_type": "execute_result"
    }
   ],
   "source": [
    "%%sql\n",
    "ALTER TABLE violations\n",
    "ADD COLUMN location_key INTEGER,\n",
    "ADD CONSTRAINT fk_location\n",
    "    FOREIGN KEY (location_key)\n",
    "    REFERENCES date (key);"
   ]
  },
  {
   "cell_type": "code",
   "execution_count": 42,
   "metadata": {},
   "outputs": [
    {
     "name": "stdout",
     "output_type": "stream",
     "text": [
      " * postgresql://student@/week12\n",
      "1292399 rows affected.\n"
     ]
    },
    {
     "data": {
      "text/plain": [
       "[]"
      ]
     },
     "execution_count": 42,
     "metadata": {},
     "output_type": "execute_result"
    }
   ],
   "source": [
    "%%sql\n",
    "UPDATE violations\n",
    "SET location_key = location.key\n",
    "FROM location\n",
    "WHERE violations.id = location.key;"
   ]
  },
  {
   "cell_type": "markdown",
   "metadata": {},
   "source": [
    "## Creating the possible cause of violation table\n",
    "#### Link possible cause of violation table to the violations fact table"
   ]
  },
  {
   "cell_type": "code",
   "execution_count": 6,
   "metadata": {},
   "outputs": [
    {
     "name": "stdout",
     "output_type": "stream",
     "text": [
      " * postgresql://student@/week12\n",
      "Done.\n",
      "Done.\n"
     ]
    },
    {
     "data": {
      "text/plain": [
       "[]"
      ]
     },
     "execution_count": 6,
     "metadata": {},
     "output_type": "execute_result"
    }
   ],
   "source": [
    "%%sql\n",
    "DROP TABLE IF EXISTS cause;\n",
    "\n",
    "CREATE TABLE cause (      \n",
    "    key SERIAL PRIMARY KEY,\n",
    "    Belts      BOOLEAN      NOT NULL, \n",
    "    Alcohol    BOOLEAN      NOT NULL, \n",
    "    Work_Zone  BOOLEAN      NOT NULL, \n",
    "    Violation_Type  TEXT \n",
    ");"
   ]
  },
  {
   "cell_type": "code",
   "execution_count": 7,
   "metadata": {},
   "outputs": [
    {
     "name": "stdout",
     "output_type": "stream",
     "text": [
      " * postgresql://student@/week12\n",
      "5 rows affected.\n"
     ]
    },
    {
     "data": {
      "text/html": [
       "<table>\n",
       "    <tr>\n",
       "        <th>belts</th>\n",
       "        <th>alcohol</th>\n",
       "        <th>work_zone</th>\n",
       "        <th>violation_type</th>\n",
       "    </tr>\n",
       "    <tr>\n",
       "        <td>False</td>\n",
       "        <td>False</td>\n",
       "        <td>False</td>\n",
       "        <td>Citation</td>\n",
       "    </tr>\n",
       "    <tr>\n",
       "        <td>False</td>\n",
       "        <td>False</td>\n",
       "        <td>False</td>\n",
       "        <td>Citation</td>\n",
       "    </tr>\n",
       "    <tr>\n",
       "        <td>False</td>\n",
       "        <td>False</td>\n",
       "        <td>False</td>\n",
       "        <td>Citation</td>\n",
       "    </tr>\n",
       "    <tr>\n",
       "        <td>False</td>\n",
       "        <td>False</td>\n",
       "        <td>False</td>\n",
       "        <td>Citation</td>\n",
       "    </tr>\n",
       "    <tr>\n",
       "        <td>False</td>\n",
       "        <td>False</td>\n",
       "        <td>False</td>\n",
       "        <td>Citation</td>\n",
       "    </tr>\n",
       "</table>"
      ],
      "text/plain": [
       "[(False, False, False, 'Citation'),\n",
       " (False, False, False, 'Citation'),\n",
       " (False, False, False, 'Citation'),\n",
       " (False, False, False, 'Citation'),\n",
       " (False, False, False, 'Citation')]"
      ]
     },
     "execution_count": 7,
     "metadata": {},
     "output_type": "execute_result"
    }
   ],
   "source": [
    "%%sql\n",
    "SELECT Belts,Alcohol,Work_Zone,Violation_Type\n",
    "FROM violations\n",
    "LIMIT 5;"
   ]
  },
  {
   "cell_type": "code",
   "execution_count": 8,
   "metadata": {},
   "outputs": [
    {
     "name": "stdout",
     "output_type": "stream",
     "text": [
      " * postgresql://student@/week12\n",
      "1292399 rows affected.\n"
     ]
    },
    {
     "data": {
      "text/plain": [
       "[]"
      ]
     },
     "execution_count": 8,
     "metadata": {},
     "output_type": "execute_result"
    }
   ],
   "source": [
    "%%sql\n",
    "INSERT INTO cause (Belts,Alcohol,Work_Zone,Violation_Type)\n",
    "SELECT Belts,Alcohol,Work_Zone,Violation_Type\n",
    "FROM violations;"
   ]
  },
  {
   "cell_type": "code",
   "execution_count": null,
   "metadata": {},
   "outputs": [],
   "source": [
    "%%sql\n",
    "ALTER TABLE violations\n",
    "ADD COLUMN cause_key INTEGER,\n",
    "ADD CONSTRAINT fk_cause\n",
    "    FOREIGN KEY (cause_key)\n",
    "    REFERENCES date (key);"
   ]
  },
  {
   "cell_type": "code",
   "execution_count": null,
   "metadata": {},
   "outputs": [],
   "source": [
    "%%sql\n",
    "UPDATE violations\n",
    "SET cause_key = cause.key\n",
    "FROM cause\n",
    "WHERE violations.id = cause.key;"
   ]
  },
  {
   "cell_type": "markdown",
   "metadata": {},
   "source": [
    "## Creating the Law table\n",
    "#### Link possible Law fact table"
   ]
  },
  {
   "cell_type": "code",
   "execution_count": null,
   "metadata": {},
   "outputs": [],
   "source": [
    "%%sql\n",
    "DROP TABLE IF EXISTS law;\n",
    "\n",
    "CREATE TABLE law (    \n",
    "    key SERIAL PRIMARY KEY,\n",
    "    Agency    TEXT  NOT NULL, \n",
    "    SubAgency  TEXT, \n",
    "    Description TEXT, \n",
    "    HAZMAT      TEXT  NOT NULL,\n",
    "    Charge      TEXT  NOT NULL,\n",
    "    Arrest_Type  TEXT NOT NULL,\n",
    "    Article     TEXT\n",
    ");"
   ]
  },
  {
   "cell_type": "code",
   "execution_count": null,
   "metadata": {},
   "outputs": [],
   "source": [
    "%%sql\n",
    "SELECT Agency,SubAgency,Description,HAZMAT, Charge,Article,Arrest_Type\n",
    "FROM violations\n",
    "LIMIT 5;"
   ]
  },
  {
   "cell_type": "code",
   "execution_count": null,
   "metadata": {},
   "outputs": [],
   "source": [
    "%%sql\n",
    "INSERT INTO law (Agency,SubAgency,Description, HAZMAT, Charge,Article,Arrest_Type)\n",
    "SELECT Agency,SubAgency,Description, HAZMAT, Charge,Article,Arrest_Type\n",
    "FROM violations;"
   ]
  },
  {
   "cell_type": "code",
   "execution_count": null,
   "metadata": {},
   "outputs": [],
   "source": [
    "%%sql\n",
    "ALTER TABLE violations\n",
    "ADD COLUMN law_key INTEGER,\n",
    "ADD CONSTRAINT fk_law\n",
    "    FOREIGN KEY (law_key)\n",
    "    REFERENCES date (key);"
   ]
  },
  {
   "cell_type": "code",
   "execution_count": null,
   "metadata": {},
   "outputs": [],
   "source": [
    "%%sql\n",
    "UPDATE violations\n",
    "SET law_key = law.key\n",
    "FROM law\n",
    "WHERE violations.id = law.key;"
   ]
  },
  {
   "cell_type": "code",
   "execution_count": null,
   "metadata": {},
   "outputs": [],
   "source": [
    "%%sql\n",
    "ALTER TABLE violations\n",
    "DROP COLUMN date_of_stop,\n",
    "DROP COLUMN time_of_stop,\n",
    "DROP COLUMN agency,\n",
    "DROP COLUMN subagency,\n",
    "DROP COLUMN description,\n",
    "DROP COLUMN location,\n",
    "DROP COLUMN latitude,\n",
    "DROP COLUMN longitude,\n",
    "DROP COLUMN accident,\n",
    "DROP COLUMN belts,\n",
    "DROP COLUMN personal_injury,\n",
    "DROP COLUMN property_damage,\n",
    "DROP COLUMN fatal,\n",
    "DROP COLUMN commercial_license,\n",
    "DROP COLUMN hazmat,\n",
    "DROP COLUMN commercial_vehicle,\n",
    "DROP COLUMN alcohol,\n",
    "DROP COLUMN work_zone,\n",
    "DROP COLUMN state,\n",
    "DROP COLUMN vehicletype,\n",
    "DROP COLUMN year,\n",
    "DROP COLUMN make,\n",
    "DROP COLUMN model,\n",
    "DROP COLUMN color,\n",
    "DROP COLUMN violation_type,\n",
    "DROP COLUMN charge,\n",
    "DROP COLUMN article,\n",
    "DROP COLUMN contributed_to_accident,\n",
    "DROP COLUMN race,\n",
    "DROP COLUMN gender,\n",
    "DROP COLUMN driver_city,\n",
    "DROP COLUMN driver_state,\n",
    "DROP COLUMN dl_state,\n",
    "DROP COLUMN arrest_type,\n",
    "DROP COLUMN geolocation;"
   ]
  },
  {
   "cell_type": "code",
   "execution_count": null,
   "metadata": {},
   "outputs": [],
   "source": [
    "%%sql\n",
    "SELECT * FROM violations\n",
    "order by id\n",
    "LIMIT 5"
   ]
  },
  {
   "cell_type": "markdown",
   "metadata": {},
   "source": [
    "# PART 3 - ANALYSIS"
   ]
  },
  {
   "cell_type": "markdown",
   "metadata": {},
   "source": [
    "## --Pre anaysis"
   ]
  },
  {
   "cell_type": "markdown",
   "metadata": {},
   "source": [
    "### Plot possible cause"
   ]
  },
  {
   "cell_type": "code",
   "execution_count": 9,
   "metadata": {},
   "outputs": [
    {
     "name": "stdout",
     "output_type": "stream",
     "text": [
      " * postgresql://student@/week12\n",
      "5 rows affected.\n"
     ]
    },
    {
     "data": {
      "text/html": [
       "<table>\n",
       "    <tr>\n",
       "        <th>key</th>\n",
       "        <th>belts</th>\n",
       "        <th>alcohol</th>\n",
       "        <th>work_zone</th>\n",
       "        <th>violation_type</th>\n",
       "    </tr>\n",
       "    <tr>\n",
       "        <td>1</td>\n",
       "        <td>False</td>\n",
       "        <td>False</td>\n",
       "        <td>False</td>\n",
       "        <td>Citation</td>\n",
       "    </tr>\n",
       "    <tr>\n",
       "        <td>2</td>\n",
       "        <td>False</td>\n",
       "        <td>False</td>\n",
       "        <td>False</td>\n",
       "        <td>Citation</td>\n",
       "    </tr>\n",
       "    <tr>\n",
       "        <td>3</td>\n",
       "        <td>False</td>\n",
       "        <td>False</td>\n",
       "        <td>False</td>\n",
       "        <td>Citation</td>\n",
       "    </tr>\n",
       "    <tr>\n",
       "        <td>4</td>\n",
       "        <td>False</td>\n",
       "        <td>False</td>\n",
       "        <td>False</td>\n",
       "        <td>Citation</td>\n",
       "    </tr>\n",
       "    <tr>\n",
       "        <td>5</td>\n",
       "        <td>False</td>\n",
       "        <td>False</td>\n",
       "        <td>False</td>\n",
       "        <td>Citation</td>\n",
       "    </tr>\n",
       "</table>"
      ],
      "text/plain": [
       "[(1, False, False, False, 'Citation'),\n",
       " (2, False, False, False, 'Citation'),\n",
       " (3, False, False, False, 'Citation'),\n",
       " (4, False, False, False, 'Citation'),\n",
       " (5, False, False, False, 'Citation')]"
      ]
     },
     "execution_count": 9,
     "metadata": {},
     "output_type": "execute_result"
    }
   ],
   "source": [
    "%%sql\n",
    "SELECT * FROM cause\n",
    "LIMIT 5;"
   ]
  },
  {
   "cell_type": "code",
   "execution_count": 10,
   "metadata": {},
   "outputs": [
    {
     "name": "stdout",
     "output_type": "stream",
     "text": [
      " * postgresql://student@/week12\n",
      "3 rows affected.\n"
     ]
    },
    {
     "data": {
      "text/html": [
       "<table>\n",
       "    <tr>\n",
       "        <th>count</th>\n",
       "    </tr>\n",
       "    <tr>\n",
       "        <td>1247956</td>\n",
       "    </tr>\n",
       "    <tr>\n",
       "        <td>2208</td>\n",
       "    </tr>\n",
       "    <tr>\n",
       "        <td>248</td>\n",
       "    </tr>\n",
       "</table>"
      ],
      "text/plain": [
       "[(1247956,), (2208,), (248,)]"
      ]
     },
     "execution_count": 10,
     "metadata": {},
     "output_type": "execute_result"
    }
   ],
   "source": [
    "%%sql\n",
    "SELECT\n",
    "count(nullif(belts = true, true))\n",
    "FROM cause\n",
    "UNION ALL\n",
    "SELECT\n",
    "count(nullif(alcohol = false, true)) \n",
    "FROM cause\n",
    "UNION ALL\n",
    "SELECT\n",
    "count(nullif(work_zone = false, true)) \n",
    "FROM cause"
   ]
  },
  {
   "cell_type": "code",
   "execution_count": 11,
   "metadata": {},
   "outputs": [
    {
     "name": "stdout",
     "output_type": "stream",
     "text": [
      " * postgresql://student@/week12\n",
      "Done.\n",
      "Done.\n"
     ]
    },
    {
     "data": {
      "text/plain": [
       "[]"
      ]
     },
     "execution_count": 11,
     "metadata": {},
     "output_type": "execute_result"
    }
   ],
   "source": [
    "%%sql\n",
    "DROP TABLE IF EXISTS pcause;\n",
    "CREATE TABLE pcause (    \n",
    "    frequency  INTEGER NOT NULL,\n",
    "    causes  VARCHAR NOT NULL\n",
    ");"
   ]
  },
  {
   "cell_type": "code",
   "execution_count": 12,
   "metadata": {},
   "outputs": [
    {
     "name": "stdout",
     "output_type": "stream",
     "text": [
      " * postgresql://student@/week12\n",
      "3 rows affected.\n"
     ]
    },
    {
     "data": {
      "text/plain": [
       "[]"
      ]
     },
     "execution_count": 12,
     "metadata": {},
     "output_type": "execute_result"
    }
   ],
   "source": [
    "%%sql\n",
    "INSERT INTO pcause (frequency, causes)\n",
    "VALUES (1247956, 'belts'),\n",
    "(248, 'work_zone'),\n",
    "(2208, 'alcohol');"
   ]
  },
  {
   "cell_type": "code",
   "execution_count": 13,
   "metadata": {},
   "outputs": [
    {
     "name": "stdout",
     "output_type": "stream",
     "text": [
      " * postgresql://student@/week12\n",
      "3 rows affected.\n"
     ]
    },
    {
     "data": {
      "text/html": [
       "<table>\n",
       "    <tr>\n",
       "        <th>frequency</th>\n",
       "        <th>causes</th>\n",
       "    </tr>\n",
       "    <tr>\n",
       "        <td>1247956</td>\n",
       "        <td>belts</td>\n",
       "    </tr>\n",
       "    <tr>\n",
       "        <td>248</td>\n",
       "        <td>work_zone</td>\n",
       "    </tr>\n",
       "    <tr>\n",
       "        <td>2208</td>\n",
       "        <td>alcohol</td>\n",
       "    </tr>\n",
       "</table>"
      ],
      "text/plain": [
       "[(1247956, 'belts'), (248, 'work_zone'), (2208, 'alcohol')]"
      ]
     },
     "execution_count": 13,
     "metadata": {},
     "output_type": "execute_result"
    }
   ],
   "source": [
    "%%sql\n",
    "SELECT * FROM\n",
    "pcause"
   ]
  },
  {
   "cell_type": "code",
   "execution_count": 14,
   "metadata": {},
   "outputs": [],
   "source": [
    "%matplotlib inline"
   ]
  },
  {
   "cell_type": "code",
   "execution_count": 15,
   "metadata": {},
   "outputs": [
    {
     "data": {
      "text/plain": [
       "<BarContainer object of 3 artists>"
      ]
     },
     "execution_count": 15,
     "metadata": {},
     "output_type": "execute_result"
    },
    {
     "data": {
      "image/png": "[encoded data removed]",
      "text/plain": [
       "<Figure size 432x288 with 1 Axes>"
      ]
     },
     "metadata": {
      "needs_background": "light"
     },
     "output_type": "display_data"
    }
   ],
   "source": [
    "_.bar()"
   ]
  },
  {
   "cell_type": "markdown",
   "metadata": {},
   "source": [
    "## Plot consequence"
   ]
  },
  {
   "cell_type": "code",
   "execution_count": 50,
   "metadata": {},
   "outputs": [
    {
     "name": "stdout",
     "output_type": "stream",
     "text": [
      " * postgresql://student@/week12\n",
      "3 rows affected.\n"
     ]
    },
    {
     "data": {
      "text/html": [
       "<table>\n",
       "    <tr>\n",
       "        <th>key</th>\n",
       "        <th>contributed_to_accident</th>\n",
       "        <th>fatal</th>\n",
       "        <th>personal_injury</th>\n",
       "        <th>property_damage</th>\n",
       "    </tr>\n",
       "    <tr>\n",
       "        <td>1</td>\n",
       "        <td>False</td>\n",
       "        <td>False</td>\n",
       "        <td>False</td>\n",
       "        <td>False</td>\n",
       "    </tr>\n",
       "    <tr>\n",
       "        <td>2</td>\n",
       "        <td>False</td>\n",
       "        <td>False</td>\n",
       "        <td>False</td>\n",
       "        <td>True</td>\n",
       "    </tr>\n",
       "    <tr>\n",
       "        <td>3</td>\n",
       "        <td>False</td>\n",
       "        <td>False</td>\n",
       "        <td>False</td>\n",
       "        <td>True</td>\n",
       "    </tr>\n",
       "</table>"
      ],
      "text/plain": [
       "[(1, False, False, False, False),\n",
       " (2, False, False, False, True),\n",
       " (3, False, False, False, True)]"
      ]
     },
     "execution_count": 50,
     "metadata": {},
     "output_type": "execute_result"
    }
   ],
   "source": [
    "%%sql\n",
    "SELECT * FROM consequence\n",
    "LIMIT 3;"
   ]
  },
  {
   "cell_type": "code",
   "execution_count": 51,
   "metadata": {},
   "outputs": [
    {
     "name": "stdout",
     "output_type": "stream",
     "text": [
      " * postgresql://student@/week12\n",
      "4 rows affected.\n"
     ]
    },
    {
     "data": {
      "text/html": [
       "<table>\n",
       "    <tr>\n",
       "        <th>count</th>\n",
       "    </tr>\n",
       "    <tr>\n",
       "        <td>30901</td>\n",
       "    </tr>\n",
       "    <tr>\n",
       "        <td>279</td>\n",
       "    </tr>\n",
       "    <tr>\n",
       "        <td>15016</td>\n",
       "    </tr>\n",
       "    <tr>\n",
       "        <td>24864</td>\n",
       "    </tr>\n",
       "</table>"
      ],
      "text/plain": [
       "[(30901,), (279,), (15016,), (24864,)]"
      ]
     },
     "execution_count": 51,
     "metadata": {},
     "output_type": "execute_result"
    }
   ],
   "source": [
    "%%sql\n",
    "SELECT\n",
    "count(nullif(contributed_to_accident = false, true)) \n",
    "FROM consequence\n",
    "UNION ALL\n",
    "SELECT\n",
    "count(nullif(fatal = false, true)) \n",
    "FROM consequence\n",
    "UNION ALL\n",
    "SELECT\n",
    "count(nullif(personal_injury = false, true)) \n",
    "FROM consequence\n",
    "UNION ALL\n",
    "SELECT\n",
    "count(nullif(property_damage = false, true)) \n",
    "FROM consequence"
   ]
  },
  {
   "cell_type": "code",
   "execution_count": 52,
   "metadata": {},
   "outputs": [
    {
     "name": "stdout",
     "output_type": "stream",
     "text": [
      " * postgresql://student@/week12\n",
      "Done.\n",
      "Done.\n"
     ]
    },
    {
     "data": {
      "text/plain": [
       "[]"
      ]
     },
     "execution_count": 52,
     "metadata": {},
     "output_type": "execute_result"
    }
   ],
   "source": [
    "%%sql\n",
    "DROP TABLE IF EXISTS conseq;\n",
    "CREATE TABLE conseq (    \n",
    "    frequency  INTEGER NOT NULL,\n",
    "    consequences VARCHAR NOT NULL\n",
    ");"
   ]
  },
  {
   "cell_type": "code",
   "execution_count": 53,
   "metadata": {},
   "outputs": [
    {
     "name": "stdout",
     "output_type": "stream",
     "text": [
      " * postgresql://student@/week12\n",
      "4 rows affected.\n"
     ]
    },
    {
     "data": {
      "text/plain": [
       "[]"
      ]
     },
     "execution_count": 53,
     "metadata": {},
     "output_type": "execute_result"
    }
   ],
   "source": [
    "%%sql\n",
    "INSERT INTO conseq (frequency, consequences)\n",
    "VALUES (30901, 'contributed_to_accident'),\n",
    "(15016, 'personal_injury'),\n",
    "(24864, 'property_damage'),\n",
    "(279, 'fatal');"
   ]
  },
  {
   "cell_type": "code",
   "execution_count": 54,
   "metadata": {},
   "outputs": [
    {
     "name": "stdout",
     "output_type": "stream",
     "text": [
      " * postgresql://student@/week12\n",
      "4 rows affected.\n"
     ]
    },
    {
     "data": {
      "text/html": [
       "<table>\n",
       "    <tr>\n",
       "        <th>frequency</th>\n",
       "        <th>consequences</th>\n",
       "    </tr>\n",
       "    <tr>\n",
       "        <td>30901</td>\n",
       "        <td>contributed_to_accident</td>\n",
       "    </tr>\n",
       "    <tr>\n",
       "        <td>15016</td>\n",
       "        <td>personal_injury</td>\n",
       "    </tr>\n",
       "    <tr>\n",
       "        <td>24864</td>\n",
       "        <td>property_damage</td>\n",
       "    </tr>\n",
       "    <tr>\n",
       "        <td>279</td>\n",
       "        <td>fatal</td>\n",
       "    </tr>\n",
       "</table>"
      ],
      "text/plain": [
       "[(30901, 'contributed_to_accident'),\n",
       " (15016, 'personal_injury'),\n",
       " (24864, 'property_damage'),\n",
       " (279, 'fatal')]"
      ]
     },
     "execution_count": 54,
     "metadata": {},
     "output_type": "execute_result"
    }
   ],
   "source": [
    "%%sql\n",
    "SELECT * FROM\n",
    "conseq"
   ]
  },
  {
   "cell_type": "code",
   "execution_count": 55,
   "metadata": {},
   "outputs": [],
   "source": [
    "%matplotlib inline"
   ]
  },
  {
   "cell_type": "code",
   "execution_count": 56,
   "metadata": {},
   "outputs": [
    {
     "data": {
      "text/plain": [
       "<BarContainer object of 4 artists>"
      ]
     },
     "execution_count": 56,
     "metadata": {},
     "output_type": "execute_result"
    },
    {
     "data": {
      "image/png": "[encoded data removed]",
      "text/plain": [
       "<Figure size 432x288 with 1 Axes>"
      ]
     },
     "metadata": {
      "needs_background": "light"
     },
     "output_type": "display_data"
    }
   ],
   "source": [
    "_.bar()"
   ]
  },
  {
   "cell_type": "markdown",
   "metadata": {},
   "source": [
    "#### Secondly, we will look at the relationship between time and violations to get more sense of the data and distributions of violations "
   ]
  },
  {
   "cell_type": "markdown",
   "metadata": {},
   "source": [
    "find the number of violations by hour of the day"
   ]
  },
  {
   "cell_type": "code",
   "execution_count": 60,
   "metadata": {},
   "outputs": [
    {
     "name": "stdout",
     "output_type": "stream",
     "text": [
      " * postgresql://student@/week12\n",
      "24 rows affected.\n"
     ]
    },
    {
     "data": {
      "text/html": [
       "<table>\n",
       "    <tr>\n",
       "        <th>hour</th>\n",
       "        <th>to_num_vio</th>\n",
       "    </tr>\n",
       "    <tr>\n",
       "        <td>5</td>\n",
       "        <td>11738</td>\n",
       "    </tr>\n",
       "    <tr>\n",
       "        <td>4</td>\n",
       "        <td>17648</td>\n",
       "    </tr>\n",
       "    <tr>\n",
       "        <td>6</td>\n",
       "        <td>19041</td>\n",
       "    </tr>\n",
       "    <tr>\n",
       "        <td>3</td>\n",
       "        <td>29166</td>\n",
       "    </tr>\n",
       "    <tr>\n",
       "        <td>2</td>\n",
       "        <td>44040</td>\n",
       "    </tr>\n",
       "    <tr>\n",
       "        <td>15</td>\n",
       "        <td>45397</td>\n",
       "    </tr>\n",
       "    <tr>\n",
       "        <td>7</td>\n",
       "        <td>45561</td>\n",
       "    </tr>\n",
       "    <tr>\n",
       "        <td>19</td>\n",
       "        <td>45628</td>\n",
       "    </tr>\n",
       "    <tr>\n",
       "        <td>12</td>\n",
       "        <td>50070</td>\n",
       "    </tr>\n",
       "    <tr>\n",
       "        <td>20</td>\n",
       "        <td>50471</td>\n",
       "    </tr>\n",
       "    <tr>\n",
       "        <td>13</td>\n",
       "        <td>51109</td>\n",
       "    </tr>\n",
       "    <tr>\n",
       "        <td>18</td>\n",
       "        <td>51307</td>\n",
       "    </tr>\n",
       "    <tr>\n",
       "        <td>14</td>\n",
       "        <td>53114</td>\n",
       "    </tr>\n",
       "    <tr>\n",
       "        <td>11</td>\n",
       "        <td>55092</td>\n",
       "    </tr>\n",
       "    <tr>\n",
       "        <td>1</td>\n",
       "        <td>57335</td>\n",
       "    </tr>\n",
       "    <tr>\n",
       "        <td>16</td>\n",
       "        <td>61849</td>\n",
       "    </tr>\n",
       "    <tr>\n",
       "        <td>9</td>\n",
       "        <td>64148</td>\n",
       "    </tr>\n",
       "    <tr>\n",
       "        <td>17</td>\n",
       "        <td>65190</td>\n",
       "    </tr>\n",
       "    <tr>\n",
       "        <td>10</td>\n",
       "        <td>65647</td>\n",
       "    </tr>\n",
       "    <tr>\n",
       "        <td>8</td>\n",
       "        <td>68769</td>\n",
       "    </tr>\n",
       "    <tr>\n",
       "        <td>0</td>\n",
       "        <td>70746</td>\n",
       "    </tr>\n",
       "    <tr>\n",
       "        <td>21</td>\n",
       "        <td>71552</td>\n",
       "    </tr>\n",
       "    <tr>\n",
       "        <td>23</td>\n",
       "        <td>97832</td>\n",
       "    </tr>\n",
       "    <tr>\n",
       "        <td>22</td>\n",
       "        <td>99949</td>\n",
       "    </tr>\n",
       "</table>"
      ],
      "text/plain": [
       "[(5, 11738),\n",
       " (4, 17648),\n",
       " (6, 19041),\n",
       " (3, 29166),\n",
       " (2, 44040),\n",
       " (15, 45397),\n",
       " (7, 45561),\n",
       " (19, 45628),\n",
       " (12, 50070),\n",
       " (20, 50471),\n",
       " (13, 51109),\n",
       " (18, 51307),\n",
       " (14, 53114),\n",
       " (11, 55092),\n",
       " (1, 57335),\n",
       " (16, 61849),\n",
       " (9, 64148),\n",
       " (17, 65190),\n",
       " (10, 65647),\n",
       " (8, 68769),\n",
       " (0, 70746),\n",
       " (21, 71552),\n",
       " (23, 97832),\n",
       " (22, 99949)]"
      ]
     },
     "execution_count": 60,
     "metadata": {},
     "output_type": "execute_result"
    }
   ],
   "source": [
    "%%sql\n",
    "SELECT hour, COUNT(*) to_num_vio\n",
    "FROM hour\n",
    "GROUP BY hour\n",
    "ORDER BY to_num_vio;"
   ]
  },
  {
   "cell_type": "code",
   "execution_count": 61,
   "metadata": {},
   "outputs": [],
   "source": [
    "%matplotlib inline"
   ]
  },
  {
   "cell_type": "code",
   "execution_count": 62,
   "metadata": {},
   "outputs": [
    {
     "data": {
      "text/plain": [
       "<BarContainer object of 24 artists>"
      ]
     },
     "execution_count": 62,
     "metadata": {},
     "output_type": "execute_result"
    },
    {
     "data": {
      "image/png": "[encoded data removed]",
      "text/plain": [
       "<Figure size 432x288 with 1 Axes>"
      ]
     },
     "metadata": {
      "needs_background": "light"
     },
     "output_type": "display_data"
    }
   ],
   "source": [
    "_.bar()"
   ]
  },
  {
   "cell_type": "markdown",
   "metadata": {},
   "source": [
    "#### By displaying the count of violations from the lowest to the highest, we can see that during a day, 21 pm to 0 am is the peak hour for violations."
   ]
  },
  {
   "cell_type": "markdown",
   "metadata": {},
   "source": [
    "#### We then checked in 2016, how the number of violations distributes in 12 months of 2016"
   ]
  },
  {
   "cell_type": "code",
   "execution_count": 63,
   "metadata": {},
   "outputs": [
    {
     "name": "stdout",
     "output_type": "stream",
     "text": [
      " * postgresql://student@/week12\n",
      "12 rows affected.\n"
     ]
    },
    {
     "data": {
      "text/html": [
       "<table>\n",
       "    <tr>\n",
       "        <th>year</th>\n",
       "        <th>month_of_year</th>\n",
       "        <th>total_num_vio</th>\n",
       "    </tr>\n",
       "    <tr>\n",
       "        <td>2016</td>\n",
       "        <td>9</td>\n",
       "        <td>16356</td>\n",
       "    </tr>\n",
       "    <tr>\n",
       "        <td>2016</td>\n",
       "        <td>11</td>\n",
       "        <td>16387</td>\n",
       "    </tr>\n",
       "    <tr>\n",
       "        <td>2016</td>\n",
       "        <td>12</td>\n",
       "        <td>16400</td>\n",
       "    </tr>\n",
       "    <tr>\n",
       "        <td>2016</td>\n",
       "        <td>1</td>\n",
       "        <td>16671</td>\n",
       "    </tr>\n",
       "    <tr>\n",
       "        <td>2016</td>\n",
       "        <td>10</td>\n",
       "        <td>16781</td>\n",
       "    </tr>\n",
       "    <tr>\n",
       "        <td>2016</td>\n",
       "        <td>7</td>\n",
       "        <td>17239</td>\n",
       "    </tr>\n",
       "    <tr>\n",
       "        <td>2016</td>\n",
       "        <td>8</td>\n",
       "        <td>17684</td>\n",
       "    </tr>\n",
       "    <tr>\n",
       "        <td>2016</td>\n",
       "        <td>5</td>\n",
       "        <td>18734</td>\n",
       "    </tr>\n",
       "    <tr>\n",
       "        <td>2016</td>\n",
       "        <td>2</td>\n",
       "        <td>19829</td>\n",
       "    </tr>\n",
       "    <tr>\n",
       "        <td>2016</td>\n",
       "        <td>6</td>\n",
       "        <td>20055</td>\n",
       "    </tr>\n",
       "    <tr>\n",
       "        <td>2016</td>\n",
       "        <td>4</td>\n",
       "        <td>20996</td>\n",
       "    </tr>\n",
       "    <tr>\n",
       "        <td>2016</td>\n",
       "        <td>3</td>\n",
       "        <td>22521</td>\n",
       "    </tr>\n",
       "</table>"
      ],
      "text/plain": [
       "[(2016, 9, 16356),\n",
       " (2016, 11, 16387),\n",
       " (2016, 12, 16400),\n",
       " (2016, 1, 16671),\n",
       " (2016, 10, 16781),\n",
       " (2016, 7, 17239),\n",
       " (2016, 8, 17684),\n",
       " (2016, 5, 18734),\n",
       " (2016, 2, 19829),\n",
       " (2016, 6, 20055),\n",
       " (2016, 4, 20996),\n",
       " (2016, 3, 22521)]"
      ]
     },
     "execution_count": 63,
     "metadata": {},
     "output_type": "execute_result"
    }
   ],
   "source": [
    "%%sql\n",
    "SELECT year, month_of_year, count(*) as total_num_vio\n",
    "FROM date\n",
    "where year = 2016\n",
    "group by year, month_of_year\n",
    "order by total_num_vio;"
   ]
  },
  {
   "cell_type": "code",
   "execution_count": 64,
   "metadata": {},
   "outputs": [],
   "source": [
    "%matplotlib inline"
   ]
  },
  {
   "cell_type": "code",
   "execution_count": 65,
   "metadata": {},
   "outputs": [
    {
     "data": {
      "text/plain": [
       "<BarContainer object of 12 artists>"
      ]
     },
     "execution_count": 65,
     "metadata": {},
     "output_type": "execute_result"
    },
    {
     "data": {
      "image/png": "[encoded data removed]",
      "text/plain": [
       "<Figure size 432x288 with 1 Axes>"
      ]
     },
     "metadata": {
      "needs_background": "light"
     },
     "output_type": "display_data"
    }
   ],
   "source": [
    "_.bar()"
   ]
  },
  {
   "cell_type": "markdown",
   "metadata": {},
   "source": [
    "#### We can see that March, April, June and February happen the most violations in 2016"
   ]
  },
  {
   "cell_type": "markdown",
   "metadata": {},
   "source": [
    "find the number of violations by month of the years among 2012 to 2018"
   ]
  },
  {
   "cell_type": "code",
   "execution_count": 66,
   "metadata": {},
   "outputs": [
    {
     "name": "stdout",
     "output_type": "stream",
     "text": [
      " * postgresql://student@/week12\n",
      "12 rows affected.\n"
     ]
    },
    {
     "data": {
      "text/html": [
       "<table>\n",
       "    <tr>\n",
       "        <th>month_of_year</th>\n",
       "        <th>count</th>\n",
       "    </tr>\n",
       "    <tr>\n",
       "        <td>1</td>\n",
       "        <td>107606</td>\n",
       "    </tr>\n",
       "    <tr>\n",
       "        <td>2</td>\n",
       "        <td>112771</td>\n",
       "    </tr>\n",
       "    <tr>\n",
       "        <td>3</td>\n",
       "        <td>129040</td>\n",
       "    </tr>\n",
       "    <tr>\n",
       "        <td>4</td>\n",
       "        <td>125821</td>\n",
       "    </tr>\n",
       "    <tr>\n",
       "        <td>5</td>\n",
       "        <td>114277</td>\n",
       "    </tr>\n",
       "    <tr>\n",
       "        <td>6</td>\n",
       "        <td>98767</td>\n",
       "    </tr>\n",
       "    <tr>\n",
       "        <td>7</td>\n",
       "        <td>99546</td>\n",
       "    </tr>\n",
       "    <tr>\n",
       "        <td>8</td>\n",
       "        <td>101669</td>\n",
       "    </tr>\n",
       "    <tr>\n",
       "        <td>9</td>\n",
       "        <td>101956</td>\n",
       "    </tr>\n",
       "    <tr>\n",
       "        <td>10</td>\n",
       "        <td>103937</td>\n",
       "    </tr>\n",
       "    <tr>\n",
       "        <td>11</td>\n",
       "        <td>101505</td>\n",
       "    </tr>\n",
       "    <tr>\n",
       "        <td>12</td>\n",
       "        <td>95504</td>\n",
       "    </tr>\n",
       "</table>"
      ],
      "text/plain": [
       "[(1, 107606),\n",
       " (2, 112771),\n",
       " (3, 129040),\n",
       " (4, 125821),\n",
       " (5, 114277),\n",
       " (6, 98767),\n",
       " (7, 99546),\n",
       " (8, 101669),\n",
       " (9, 101956),\n",
       " (10, 103937),\n",
       " (11, 101505),\n",
       " (12, 95504)]"
      ]
     },
     "execution_count": 66,
     "metadata": {},
     "output_type": "execute_result"
    }
   ],
   "source": [
    "%%sql\n",
    "SELECT month_of_year, COUNT(*) count\n",
    "FROM date\n",
    "GROUP BY month_of_year\n",
    "ORDER BY month_of_year;"
   ]
  },
  {
   "cell_type": "code",
   "execution_count": 76,
   "metadata": {},
   "outputs": [],
   "source": [
    "%matplotlib inline"
   ]
  },
  {
   "cell_type": "code",
   "execution_count": 77,
   "metadata": {},
   "outputs": [
    {
     "data": {
      "text/plain": [
       "<BarContainer object of 12 artists>"
      ]
     },
     "execution_count": 77,
     "metadata": {},
     "output_type": "execute_result"
    },
    {
     "data": {
      "image/png": "[encoded data removed]",
      "text/plain": [
       "<Figure size 432x288 with 1 Axes>"
      ]
     },
     "metadata": {
      "needs_background": "light"
     },
     "output_type": "display_data"
    }
   ],
   "source": [
    "_.bar()"
   ]
  },
  {
   "cell_type": "markdown",
   "metadata": {},
   "source": [
    "#### We checked among 2012 to 2018, in 7 years, Februray to May are the most months that violations happen"
   ]
  },
  {
   "cell_type": "code",
   "execution_count": 67,
   "metadata": {},
   "outputs": [
    {
     "name": "stdout",
     "output_type": "stream",
     "text": [
      " * postgresql://student@/week12\n",
      "95354 rows affected.\n"
     ]
    },
    {
     "data": {
      "text/plain": [
       "[]"
      ]
     },
     "execution_count": 67,
     "metadata": {},
     "output_type": "execute_result"
    }
   ],
   "source": [
    "%%sql\n",
    "DELETE FROM location\n",
    "where latitude is NULL"
   ]
  },
  {
   "cell_type": "code",
   "execution_count": 68,
   "metadata": {},
   "outputs": [
    {
     "name": "stdout",
     "output_type": "stream",
     "text": [
      " * postgresql://student@/week12\n",
      "10 rows affected.\n"
     ]
    },
    {
     "data": {
      "text/html": [
       "<table>\n",
       "    <tr>\n",
       "        <th>latitude</th>\n",
       "        <th>longitude</th>\n",
       "    </tr>\n",
       "    <tr>\n",
       "        <td>-94.6109883333333</td>\n",
       "        <td>38.8702933333333</td>\n",
       "    </tr>\n",
       "    <tr>\n",
       "        <td>-94.6109883333333</td>\n",
       "        <td>38.8702933333333</td>\n",
       "    </tr>\n",
       "    <tr>\n",
       "        <td>-94.6109883333333</td>\n",
       "        <td>38.8702933333333</td>\n",
       "    </tr>\n",
       "    <tr>\n",
       "        <td>-94.6109883333333</td>\n",
       "        <td>38.8702933333333</td>\n",
       "    </tr>\n",
       "    <tr>\n",
       "        <td>-94.6109883333333</td>\n",
       "        <td>38.8702933333333</td>\n",
       "    </tr>\n",
       "    <tr>\n",
       "        <td>-94.6109883333333</td>\n",
       "        <td>38.8702933333333</td>\n",
       "    </tr>\n",
       "    <tr>\n",
       "        <td>-94.6109883333333</td>\n",
       "        <td>38.8702933333333</td>\n",
       "    </tr>\n",
       "    <tr>\n",
       "        <td>-94.6109883333333</td>\n",
       "        <td>38.8702933333333</td>\n",
       "    </tr>\n",
       "    <tr>\n",
       "        <td>-94.6109883333333</td>\n",
       "        <td>38.8702933333333</td>\n",
       "    </tr>\n",
       "    <tr>\n",
       "        <td>-94.6109883333333</td>\n",
       "        <td>38.8702933333333</td>\n",
       "    </tr>\n",
       "</table>"
      ],
      "text/plain": [
       "[(Decimal('-94.6109883333333'), Decimal('38.8702933333333')),\n",
       " (Decimal('-94.6109883333333'), Decimal('38.8702933333333')),\n",
       " (Decimal('-94.6109883333333'), Decimal('38.8702933333333')),\n",
       " (Decimal('-94.6109883333333'), Decimal('38.8702933333333')),\n",
       " (Decimal('-94.6109883333333'), Decimal('38.8702933333333')),\n",
       " (Decimal('-94.6109883333333'), Decimal('38.8702933333333')),\n",
       " (Decimal('-94.6109883333333'), Decimal('38.8702933333333')),\n",
       " (Decimal('-94.6109883333333'), Decimal('38.8702933333333')),\n",
       " (Decimal('-94.6109883333333'), Decimal('38.8702933333333')),\n",
       " (Decimal('-94.6109883333333'), Decimal('38.8702933333333'))]"
      ]
     },
     "execution_count": 68,
     "metadata": {},
     "output_type": "execute_result"
    }
   ],
   "source": [
    "%%sql\n",
    "SELECT latitude, longitude\n",
    "from location\n",
    "order by latitude\n",
    "limit 10"
   ]
  },
  {
   "cell_type": "code",
   "execution_count": 69,
   "metadata": {},
   "outputs": [
    {
     "name": "stdout",
     "output_type": "stream",
     "text": [
      " * postgresql://student@/week12\n",
      "Done.\n",
      "13431 rows affected.\n"
     ]
    },
    {
     "data": {
      "text/plain": [
       "[]"
      ]
     },
     "execution_count": 69,
     "metadata": {},
     "output_type": "execute_result"
    }
   ],
   "source": [
    "%%sql\n",
    "drop table if exists hospital;\n",
    "\n",
    "CREATE TABLE hospital AS \n",
    "SELECT personal_injury, fatal, latitude, longitude, hour, count(*) count\n",
    "FROM consequence\n",
    "join hour\n",
    "on hour.key = consequence.key\n",
    "join location\n",
    "on location.key = consequence.key\n",
    "WHERE personal_injury = 'True' or fatal = 'True'\n",
    "group by hour,personal_injury, longitude, latitude, fatal\n",
    "order by latitude desc;"
   ]
  },
  {
   "cell_type": "code",
   "execution_count": 70,
   "metadata": {},
   "outputs": [
    {
     "name": "stdout",
     "output_type": "stream",
     "text": [
      " * postgresql://student@/week12\n",
      "5 rows affected.\n"
     ]
    },
    {
     "data": {
      "text/html": [
       "<table>\n",
       "    <tr>\n",
       "        <th>personal_injury</th>\n",
       "        <th>fatal</th>\n",
       "        <th>latitude</th>\n",
       "        <th>longitude</th>\n",
       "        <th>hour</th>\n",
       "        <th>count</th>\n",
       "    </tr>\n",
       "    <tr>\n",
       "        <td>True</td>\n",
       "        <td>False</td>\n",
       "        <td>39.7013583333333</td>\n",
       "        <td>-77.3172066666667</td>\n",
       "        <td>17</td>\n",
       "        <td>1</td>\n",
       "    </tr>\n",
       "    <tr>\n",
       "        <td>True</td>\n",
       "        <td>False</td>\n",
       "        <td>39.51379075</td>\n",
       "        <td>-77.5683131666667</td>\n",
       "        <td>11</td>\n",
       "        <td>1</td>\n",
       "    </tr>\n",
       "    <tr>\n",
       "        <td>True</td>\n",
       "        <td>False</td>\n",
       "        <td>39.51379075</td>\n",
       "        <td>-77.5683131666667</td>\n",
       "        <td>21</td>\n",
       "        <td>1</td>\n",
       "    </tr>\n",
       "    <tr>\n",
       "        <td>True</td>\n",
       "        <td>False</td>\n",
       "        <td>39.4126766666667</td>\n",
       "        <td>-76.6104133333333</td>\n",
       "        <td>2</td>\n",
       "        <td>1</td>\n",
       "    </tr>\n",
       "    <tr>\n",
       "        <td>True</td>\n",
       "        <td>False</td>\n",
       "        <td>39.340265</td>\n",
       "        <td>-77.26091</td>\n",
       "        <td>14</td>\n",
       "        <td>1</td>\n",
       "    </tr>\n",
       "</table>"
      ],
      "text/plain": [
       "[(True, False, Decimal('39.7013583333333'), Decimal('-77.3172066666667'), 17, 1),\n",
       " (True, False, Decimal('39.51379075'), Decimal('-77.5683131666667'), 11, 1),\n",
       " (True, False, Decimal('39.51379075'), Decimal('-77.5683131666667'), 21, 1),\n",
       " (True, False, Decimal('39.4126766666667'), Decimal('-76.6104133333333'), 2, 1),\n",
       " (True, False, Decimal('39.340265'), Decimal('-77.26091'), 14, 1)]"
      ]
     },
     "execution_count": 70,
     "metadata": {},
     "output_type": "execute_result"
    }
   ],
   "source": [
    "%%sql\n",
    "select * from hospital\n",
    "limit 5"
   ]
  },
  {
   "cell_type": "code",
   "execution_count": 71,
   "metadata": {},
   "outputs": [
    {
     "name": "stdout",
     "output_type": "stream",
     "text": [
      " * postgresql://student@/week12\n",
      "Done.\n",
      "48 rows affected.\n"
     ]
    },
    {
     "data": {
      "text/plain": [
       "[]"
      ]
     },
     "execution_count": 71,
     "metadata": {},
     "output_type": "execute_result"
    }
   ],
   "source": [
    "%%sql\n",
    "\n",
    "drop table if exists hospital_2;\n",
    "\n",
    "CREATE TABLE hospital_2 AS \n",
    "select personal_injury, fatal, hour, count(*)\n",
    "from hospital\n",
    "group by personal_injury, fatal, hour\n",
    "order by hour;"
   ]
  },
  {
   "cell_type": "code",
   "execution_count": 74,
   "metadata": {},
   "outputs": [
    {
     "name": "stdout",
     "output_type": "stream",
     "text": [
      " * postgresql://student@/week12\n",
      "10 rows affected.\n"
     ]
    },
    {
     "data": {
      "text/html": [
       "<table>\n",
       "    <tr>\n",
       "        <th>personal_injury</th>\n",
       "        <th>fatal</th>\n",
       "        <th>hour</th>\n",
       "        <th>count</th>\n",
       "    </tr>\n",
       "    <tr>\n",
       "        <td>True</td>\n",
       "        <td>False</td>\n",
       "        <td>0</td>\n",
       "        <td>768</td>\n",
       "    </tr>\n",
       "    <tr>\n",
       "        <td>False</td>\n",
       "        <td>True</td>\n",
       "        <td>0</td>\n",
       "        <td>15</td>\n",
       "    </tr>\n",
       "    <tr>\n",
       "        <td>True</td>\n",
       "        <td>False</td>\n",
       "        <td>1</td>\n",
       "        <td>670</td>\n",
       "    </tr>\n",
       "    <tr>\n",
       "        <td>False</td>\n",
       "        <td>True</td>\n",
       "        <td>1</td>\n",
       "        <td>11</td>\n",
       "    </tr>\n",
       "    <tr>\n",
       "        <td>False</td>\n",
       "        <td>True</td>\n",
       "        <td>2</td>\n",
       "        <td>9</td>\n",
       "    </tr>\n",
       "    <tr>\n",
       "        <td>True</td>\n",
       "        <td>False</td>\n",
       "        <td>2</td>\n",
       "        <td>503</td>\n",
       "    </tr>\n",
       "    <tr>\n",
       "        <td>False</td>\n",
       "        <td>True</td>\n",
       "        <td>3</td>\n",
       "        <td>3</td>\n",
       "    </tr>\n",
       "    <tr>\n",
       "        <td>True</td>\n",
       "        <td>False</td>\n",
       "        <td>3</td>\n",
       "        <td>397</td>\n",
       "    </tr>\n",
       "    <tr>\n",
       "        <td>True</td>\n",
       "        <td>False</td>\n",
       "        <td>4</td>\n",
       "        <td>206</td>\n",
       "    </tr>\n",
       "    <tr>\n",
       "        <td>False</td>\n",
       "        <td>True</td>\n",
       "        <td>4</td>\n",
       "        <td>4</td>\n",
       "    </tr>\n",
       "</table>"
      ],
      "text/plain": [
       "[(True, False, 0, 768),\n",
       " (False, True, 0, 15),\n",
       " (True, False, 1, 670),\n",
       " (False, True, 1, 11),\n",
       " (False, True, 2, 9),\n",
       " (True, False, 2, 503),\n",
       " (False, True, 3, 3),\n",
       " (True, False, 3, 397),\n",
       " (True, False, 4, 206),\n",
       " (False, True, 4, 4)]"
      ]
     },
     "execution_count": 74,
     "metadata": {},
     "output_type": "execute_result"
    }
   ],
   "source": [
    "%%sql\n",
    "select * from hospital_2\n",
    "limit 10;"
   ]
  },
  {
   "cell_type": "markdown",
   "metadata": {},
   "source": [
    "#### We take look at the count of personal_injury or fatal in each hour at this time. After we got the initial exploration, we have a basic idea and expectation of our dataset, and then we can do the business question."
   ]
  },
  {
   "cell_type": "markdown",
   "metadata": {},
   "source": [
    "## Question 1 \n",
    "### (1) If an investor wants to establish a hospital in the area we are researching, where would be an ideal location?\n",
    "### (2) If department of transportation wants to decrease personal injury and number of violations in this area, which streets are the obvious ones the government should pay attention to and what actions could  the department take?"
   ]
  },
  {
   "cell_type": "markdown",
   "metadata": {},
   "source": [
    "#### First, We find the top 10 geolocations and locations of all these violations"
   ]
  },
  {
   "cell_type": "code",
   "execution_count": 75,
   "metadata": {},
   "outputs": [
    {
     "name": "stdout",
     "output_type": "stream",
     "text": [
      " * postgresql://student@/week12\n",
      "3 rows affected.\n"
     ]
    },
    {
     "data": {
      "text/html": [
       "<table>\n",
       "    <tr>\n",
       "        <th>key</th>\n",
       "        <th>geolocation</th>\n",
       "        <th>latitude</th>\n",
       "        <th>longitude</th>\n",
       "        <th>location</th>\n",
       "    </tr>\n",
       "    <tr>\n",
       "        <td>1</td>\n",
       "        <td>(39.2348434333333, -77.28153995)</td>\n",
       "        <td>39.2348434333333</td>\n",
       "        <td>-77.28153995</td>\n",
       "        <td>GATEWAY CENTER DR @ CLARKSBURG RD</td>\n",
       "    </tr>\n",
       "    <tr>\n",
       "        <td>2</td>\n",
       "        <td>(38.9827307333333, -77.1007551666667)</td>\n",
       "        <td>38.9827307333333</td>\n",
       "        <td>-77.1007551666667</td>\n",
       "        <td>CLARENDON RD @ ELM ST. N/</td>\n",
       "    </tr>\n",
       "    <tr>\n",
       "        <td>3</td>\n",
       "        <td>(39.06914295, -76.9696780666667)</td>\n",
       "        <td>39.06914295</td>\n",
       "        <td>-76.9696780666667</td>\n",
       "        <td>2068 HARLEQUIN TERRACE</td>\n",
       "    </tr>\n",
       "</table>"
      ],
      "text/plain": [
       "[(1, '(39.2348434333333, -77.28153995)', Decimal('39.2348434333333'), Decimal('-77.28153995'), 'GATEWAY CENTER DR @ CLARKSBURG RD'),\n",
       " (2, '(38.9827307333333, -77.1007551666667)', Decimal('38.9827307333333'), Decimal('-77.1007551666667'), 'CLARENDON RD @ ELM ST. N/'),\n",
       " (3, '(39.06914295, -76.9696780666667)', Decimal('39.06914295'), Decimal('-76.9696780666667'), '2068 HARLEQUIN TERRACE')]"
      ]
     },
     "execution_count": 75,
     "metadata": {},
     "output_type": "execute_result"
    }
   ],
   "source": [
    "%%sql\n",
    "SELECT * FROM location\n",
    "LIMIT 3;"
   ]
  },
  {
   "cell_type": "code",
   "execution_count": 76,
   "metadata": {},
   "outputs": [
    {
     "name": "stdout",
     "output_type": "stream",
     "text": [
      " * postgresql://student@/week12\n",
      "10 rows affected.\n"
     ]
    },
    {
     "data": {
      "text/html": [
       "<table>\n",
       "    <tr>\n",
       "        <th>geolocation</th>\n",
       "        <th>count</th>\n",
       "    </tr>\n",
       "    <tr>\n",
       "        <td>(39.045425, -76.9907366666667)</td>\n",
       "        <td>551</td>\n",
       "    </tr>\n",
       "    <tr>\n",
       "        <td>(39.0462766666667, -76.990695)</td>\n",
       "        <td>431</td>\n",
       "    </tr>\n",
       "    <tr>\n",
       "        <td>(39.109775, -76.91044)</td>\n",
       "        <td>327</td>\n",
       "    </tr>\n",
       "    <tr>\n",
       "        <td>(39.0056183333333, -77.0123283333333)</td>\n",
       "        <td>268</td>\n",
       "    </tr>\n",
       "    <tr>\n",
       "        <td>(39.11061, -76.9897983333333)</td>\n",
       "        <td>253</td>\n",
       "    </tr>\n",
       "    <tr>\n",
       "        <td>(39.057555, -76.9678266666667)</td>\n",
       "        <td>210</td>\n",
       "    </tr>\n",
       "    <tr>\n",
       "        <td>(39.0039, -77.036485)</td>\n",
       "        <td>155</td>\n",
       "    </tr>\n",
       "    <tr>\n",
       "        <td>(39.1492783333333, -77.06662)</td>\n",
       "        <td>128</td>\n",
       "    </tr>\n",
       "    <tr>\n",
       "        <td>(39.077695, -77.046385)</td>\n",
       "        <td>128</td>\n",
       "    </tr>\n",
       "    <tr>\n",
       "        <td>(38.9920483333333, -77.0271333333333)</td>\n",
       "        <td>124</td>\n",
       "    </tr>\n",
       "</table>"
      ],
      "text/plain": [
       "[('(39.045425, -76.9907366666667)', 551),\n",
       " ('(39.0462766666667, -76.990695)', 431),\n",
       " ('(39.109775, -76.91044)', 327),\n",
       " ('(39.0056183333333, -77.0123283333333)', 268),\n",
       " ('(39.11061, -76.9897983333333)', 253),\n",
       " ('(39.057555, -76.9678266666667)', 210),\n",
       " ('(39.0039, -77.036485)', 155),\n",
       " ('(39.1492783333333, -77.06662)', 128),\n",
       " ('(39.077695, -77.046385)', 128),\n",
       " ('(38.9920483333333, -77.0271333333333)', 124)]"
      ]
     },
     "execution_count": 76,
     "metadata": {},
     "output_type": "execute_result"
    }
   ],
   "source": [
    "%%sql\n",
    "SELECT geolocation, count(geolocation)\n",
    "FROM location\n",
    "GROUP BY geolocation\n",
    "ORDER BY count DESC\n",
    "LIMIT 10;"
   ]
  },
  {
   "cell_type": "code",
   "execution_count": 77,
   "metadata": {},
   "outputs": [
    {
     "name": "stdout",
     "output_type": "stream",
     "text": [
      " * postgresql://student@/week12\n",
      "10 rows affected.\n"
     ]
    },
    {
     "data": {
      "text/html": [
       "<table>\n",
       "    <tr>\n",
       "        <th>location</th>\n",
       "        <th>count</th>\n",
       "    </tr>\n",
       "    <tr>\n",
       "        <td>IS 370 @ IS 270</td>\n",
       "        <td>1973</td>\n",
       "    </tr>\n",
       "    <tr>\n",
       "        <td>W/B IS 370 @ IS 270</td>\n",
       "        <td>1884</td>\n",
       "    </tr>\n",
       "    <tr>\n",
       "        <td>WAYNE AVE @ DALE DR</td>\n",
       "        <td>1802</td>\n",
       "    </tr>\n",
       "    <tr>\n",
       "        <td>RANDOLPH / COLIE</td>\n",
       "        <td>1494</td>\n",
       "    </tr>\n",
       "    <tr>\n",
       "        <td>WOODFIELD RD @ EMORY GROVE RD</td>\n",
       "        <td>1446</td>\n",
       "    </tr>\n",
       "    <tr>\n",
       "        <td>RT 28 @ BLACKBERRY DR</td>\n",
       "        <td>1428</td>\n",
       "    </tr>\n",
       "    <tr>\n",
       "        <td>10901 WESTLAKE DRIVE</td>\n",
       "        <td>1336</td>\n",
       "    </tr>\n",
       "    <tr>\n",
       "        <td>MONTGOMERY VILLAGE AVE @ RUSSELL AVE</td>\n",
       "        <td>1274</td>\n",
       "    </tr>\n",
       "    <tr>\n",
       "        <td>COLESVILLE RD @ GEORGIA AVE</td>\n",
       "        <td>1230</td>\n",
       "    </tr>\n",
       "    <tr>\n",
       "        <td>CLOPPER RD E/B @ ORCHARD HILLS DR</td>\n",
       "        <td>1200</td>\n",
       "    </tr>\n",
       "</table>"
      ],
      "text/plain": [
       "[('IS 370 @ IS 270', 1973),\n",
       " ('W/B IS 370 @ IS 270', 1884),\n",
       " ('WAYNE AVE @ DALE DR', 1802),\n",
       " ('RANDOLPH / COLIE', 1494),\n",
       " ('WOODFIELD RD @ EMORY GROVE RD', 1446),\n",
       " ('RT 28 @ BLACKBERRY DR', 1428),\n",
       " ('10901 WESTLAKE DRIVE', 1336),\n",
       " ('MONTGOMERY VILLAGE AVE @ RUSSELL AVE', 1274),\n",
       " ('COLESVILLE RD @ GEORGIA AVE', 1230),\n",
       " ('CLOPPER RD E/B @ ORCHARD HILLS DR', 1200)]"
      ]
     },
     "execution_count": 77,
     "metadata": {},
     "output_type": "execute_result"
    }
   ],
   "source": [
    "%%sql\n",
    "SELECT location, count(location)\n",
    "FROM location\n",
    "GROUP BY location\n",
    "ORDER BY count DESC\n",
    "LIMIT 10;"
   ]
  },
  {
   "cell_type": "markdown",
   "metadata": {},
   "source": [
    "#### Second, we get those locations and geolocations on the map and find the most proper location of the hospital"
   ]
  },
  {
   "cell_type": "markdown",
   "metadata": {},
   "source": [
    "#### (1) get top 10 geolocations using Tableau"
   ]
  },
  {
   "cell_type": "code",
   "execution_count": 78,
   "metadata": {},
   "outputs": [],
   "source": [
    "from IPython.display import Image"
   ]
  },
  {
   "cell_type": "code",
   "execution_count": 79,
   "metadata": {},
   "outputs": [
    {
     "data": {
      "text/html": [
       "<img src=\"https://shengqizhou.s3.amazonaws.com/WechatIMG2.jpeg\" width=\"1000\" height=\"1000\"/>"
      ],
      "text/plain": [
       "<IPython.core.display.Image object>"
      ]
     },
     "execution_count": 79,
     "metadata": {},
     "output_type": "execute_result"
    }
   ],
   "source": [
    "Image(url= \"https://shengqizhou.s3.amazonaws.com/WechatIMG2.jpeg\", width=1000, height=1000)"
   ]
  },
  {
   "cell_type": "markdown",
   "metadata": {},
   "source": [
    "#### (2) get top 10 locations using google map"
   ]
  },
  {
   "cell_type": "code",
   "execution_count": 3,
   "metadata": {},
   "outputs": [
    {
     "data": {
      "text/html": [
       "<img src=\"https://shengqizhou.s3.amazonaws.com/WechatIMG5.jpeg\" width=\"1000\" height=\"1000\"/>"
      ],
      "text/plain": [
       "<IPython.core.display.Image object>"
      ]
     },
     "execution_count": 3,
     "metadata": {},
     "output_type": "execute_result"
    }
   ],
   "source": [
    "Image(url= \"https://shengqizhou.s3.amazonaws.com/WechatIMG5.jpeg\", width=1000, height=1000)"
   ]
  },
  {
   "cell_type": "markdown",
   "metadata": {},
   "source": [
    "#### (3) show the combination of top 10 locations and geolocations using google map"
   ]
  },
  {
   "cell_type": "code",
   "execution_count": 4,
   "metadata": {},
   "outputs": [
    {
     "data": {
      "text/html": [
       "<img src=\"https://shengqizhou.s3.amazonaws.com/WechatIMG8.jpeg\" width=\"1000\" height=\"1000\"/>"
      ],
      "text/plain": [
       "<IPython.core.display.Image object>"
      ]
     },
     "execution_count": 4,
     "metadata": {},
     "output_type": "execute_result"
    }
   ],
   "source": [
    "Image(url= \"https://shengqizhou.s3.amazonaws.com/WechatIMG8.jpeg\", width=1000, height=1000)"
   ]
  },
  {
   "cell_type": "markdown",
   "metadata": {},
   "source": [
    "#### Third, from the cause of the violations, we can identity the actions the department should take"
   ]
  },
  {
   "cell_type": "code",
   "execution_count": 16,
   "metadata": {},
   "outputs": [
    {
     "name": "stdout",
     "output_type": "stream",
     "text": [
      " * postgresql://student@/week12\n",
      "3 rows affected.\n"
     ]
    },
    {
     "data": {
      "text/html": [
       "<table>\n",
       "    <tr>\n",
       "        <th>frequency</th>\n",
       "        <th>causes</th>\n",
       "    </tr>\n",
       "    <tr>\n",
       "        <td>1247956</td>\n",
       "        <td>belts</td>\n",
       "    </tr>\n",
       "    <tr>\n",
       "        <td>248</td>\n",
       "        <td>work_zone</td>\n",
       "    </tr>\n",
       "    <tr>\n",
       "        <td>2208</td>\n",
       "        <td>alcohol</td>\n",
       "    </tr>\n",
       "</table>"
      ],
      "text/plain": [
       "[(1247956, 'belts'), (248, 'work_zone'), (2208, 'alcohol')]"
      ]
     },
     "execution_count": 16,
     "metadata": {},
     "output_type": "execute_result"
    }
   ],
   "source": [
    "%%sql\n",
    "SELECT * FROM\n",
    "pcause"
   ]
  },
  {
   "cell_type": "code",
   "execution_count": 17,
   "metadata": {},
   "outputs": [],
   "source": [
    "%matplotlib inline"
   ]
  },
  {
   "cell_type": "code",
   "execution_count": 18,
   "metadata": {},
   "outputs": [
    {
     "data": {
      "text/plain": [
       "<BarContainer object of 3 artists>"
      ]
     },
     "execution_count": 18,
     "metadata": {},
     "output_type": "execute_result"
    },
    {
     "data": {
      "image/png": "[encoded data removed]",
      "text/plain": [
       "<Figure size 432x288 with 1 Axes>"
      ]
     },
     "metadata": {
      "needs_background": "light"
     },
     "output_type": "display_data"
    }
   ],
   "source": [
    "_.bar()"
   ]
  },
  {
   "cell_type": "markdown",
   "metadata": {},
   "source": [
    "#### Finally, draw conclusion for Question 1\n",
    "##### (1)Making use of “Traffic violation in Maryland County” dataset, our team aim to reduce the property damage and personal injury as well as increasing revenue through accidents. Therefore, the first thing coming to our mind is building a hospital which relatively near those high frequent traffic violation areas. To begin with, we regard columns ‘geolocation’, ‘latitude’, ‘longitude’ and ‘location’ as dimensions, and pinpoint Top 10 frequent violation geo-locations and Top 10 accident locations which happened at least thousand times of accidents during 2012-2018 in Maryland county. \n",
    "\n",
    "##### Then, after counting the top 10 geolocations and locations, we plot maps below based on these locations and draw several conclusions through the data: \n",
    "\n",
    "##### In general, traffic violation and accidents occur mostly in the following types of places:\n",
    "##### 1.The margin of Maryland County with narrow road\n",
    "##### 2.The intersect crossroad with narrow width \n",
    "##### 3.Downtowns with irregular road trends \n",
    "##### 4.Two adjacent blocks with similar terrible traffic conditions   \n",
    "\n",
    "##### What’s more, based on maps and conclusions, we start to find appropriate locations to build our expected hospitals. With geoloaction map, we initially choose 2 places near clusters of accidents as ideal hospital places. Coincidentally, one of the two place (near D.C.) already has a hospital, which somehow validated our hypothesis and further strengthens our confidence about the location. The brand-new hospital is at the intersection of Good Hope Road and New Hampshire Ave. It now is a undeveloped place with trees and streams around, and the nearby has several parks, churches, hotels, inns, restaurants and residential areas, which seems an ideal place for a hospital.\n",
    "\n",
    "##### (2) By observation, here are some streets and avenues with most accidents:\n",
    "##### -Wayne Ave, Silver Spring;\n",
    "##### -Russell Ave & Montgomery Village Ave, Gaithersburg; \n",
    "##### -Clopper Rd, Maryland;\n",
    "##### -Georgia Ave & Colesville Rd, Silver Spring;\n",
    "##### -Woodfield Rd & Emory Grove Rd, Redland;\n",
    "\n",
    "##### What’s more, the clusters of traffic violations are congregated in two areas: Gaithersburg and Silver Spring, which happened several times more than other streets and avenues. Thus, in my opinion, our group would suggest the location government, policy traffic management department, Radio station to carry out more traffic safety activities and remind their residuals to obey the traffic rules\n"
   ]
  },
  {
   "cell_type": "markdown",
   "metadata": {},
   "source": [
    "## Question 2 If local community and non-profit organizations such as American Red-cross want to arrange some volunteers during peak hour of traffic violations, what kind of resourses they sho  ud disstriburfte?"
   ]
  },
  {
   "cell_type": "code",
   "execution_count": 138,
   "metadata": {},
   "outputs": [
    {
     "name": "stdout",
     "output_type": "stream",
     "text": [
      " * postgresql://student@/week12\n",
      "24 rows affected.\n"
     ]
    },
    {
     "data": {
      "text/html": [
       "<table>\n",
       "    <tr>\n",
       "        <th>hour</th>\n",
       "        <th>total_num_injury_fatal</th>\n",
       "    </tr>\n",
       "    <tr>\n",
       "        <td>3</td>\n",
       "        <td>44</td>\n",
       "    </tr>\n",
       "    <tr>\n",
       "        <td>4</td>\n",
       "        <td>49</td>\n",
       "    </tr>\n",
       "    <tr>\n",
       "        <td>1</td>\n",
       "        <td>56</td>\n",
       "    </tr>\n",
       "    <tr>\n",
       "        <td>2</td>\n",
       "        <td>63</td>\n",
       "    </tr>\n",
       "    <tr>\n",
       "        <td>5</td>\n",
       "        <td>82</td>\n",
       "    </tr>\n",
       "    <tr>\n",
       "        <td>0</td>\n",
       "        <td>83</td>\n",
       "    </tr>\n",
       "    <tr>\n",
       "        <td>23</td>\n",
       "        <td>93</td>\n",
       "    </tr>\n",
       "    <tr>\n",
       "        <td>22</td>\n",
       "        <td>146</td>\n",
       "    </tr>\n",
       "    <tr>\n",
       "        <td>20</td>\n",
       "        <td>155</td>\n",
       "    </tr>\n",
       "    <tr>\n",
       "        <td>21</td>\n",
       "        <td>163</td>\n",
       "    </tr>\n",
       "    <tr>\n",
       "        <td>6</td>\n",
       "        <td>188</td>\n",
       "    </tr>\n",
       "    <tr>\n",
       "        <td>19</td>\n",
       "        <td>255</td>\n",
       "    </tr>\n",
       "    <tr>\n",
       "        <td>10</td>\n",
       "        <td>279</td>\n",
       "    </tr>\n",
       "    <tr>\n",
       "        <td>11</td>\n",
       "        <td>300</td>\n",
       "    </tr>\n",
       "    <tr>\n",
       "        <td>13</td>\n",
       "        <td>316</td>\n",
       "    </tr>\n",
       "    <tr>\n",
       "        <td>7</td>\n",
       "        <td>335</td>\n",
       "    </tr>\n",
       "    <tr>\n",
       "        <td>12</td>\n",
       "        <td>340</td>\n",
       "    </tr>\n",
       "    <tr>\n",
       "        <td>14</td>\n",
       "        <td>353</td>\n",
       "    </tr>\n",
       "    <tr>\n",
       "        <td>18</td>\n",
       "        <td>355</td>\n",
       "    </tr>\n",
       "    <tr>\n",
       "        <td>9</td>\n",
       "        <td>393</td>\n",
       "    </tr>\n",
       "    <tr>\n",
       "        <td>17</td>\n",
       "        <td>403</td>\n",
       "    </tr>\n",
       "    <tr>\n",
       "        <td>16</td>\n",
       "        <td>409</td>\n",
       "    </tr>\n",
       "    <tr>\n",
       "        <td>15</td>\n",
       "        <td>415</td>\n",
       "    </tr>\n",
       "    <tr>\n",
       "        <td>8</td>\n",
       "        <td>430</td>\n",
       "    </tr>\n",
       "</table>"
      ],
      "text/plain": [
       "[(3, Decimal('44')),\n",
       " (4, Decimal('49')),\n",
       " (1, Decimal('56')),\n",
       " (2, Decimal('63')),\n",
       " (5, Decimal('82')),\n",
       " (0, Decimal('83')),\n",
       " (23, Decimal('93')),\n",
       " (22, Decimal('146')),\n",
       " (20, Decimal('155')),\n",
       " (21, Decimal('163')),\n",
       " (6, Decimal('188')),\n",
       " (19, Decimal('255')),\n",
       " (10, Decimal('279')),\n",
       " (11, Decimal('300')),\n",
       " (13, Decimal('316')),\n",
       " (7, Decimal('335')),\n",
       " (12, Decimal('340')),\n",
       " (14, Decimal('353')),\n",
       " (18, Decimal('355')),\n",
       " (9, Decimal('393')),\n",
       " (17, Decimal('403')),\n",
       " (16, Decimal('409')),\n",
       " (15, Decimal('415')),\n",
       " (8, Decimal('430'))]"
      ]
     },
     "execution_count": 138,
     "metadata": {},
     "output_type": "execute_result"
    }
   ],
   "source": [
    "%%sql\n",
    "select hour,sum(count) as total_num_injury_fatal\n",
    "from hospital_2\n",
    "group by hour\n",
    "order by total_num_injury_fatal;"
   ]
  },
  {
   "cell_type": "code",
   "execution_count": 139,
   "metadata": {},
   "outputs": [],
   "source": [
    "%matplotlib inline"
   ]
  },
  {
   "cell_type": "code",
   "execution_count": 140,
   "metadata": {},
   "outputs": [
    {
     "data": {
      "text/plain": [
       "<BarContainer object of 24 artists>"
      ]
     },
     "execution_count": 140,
     "metadata": {},
     "output_type": "execute_result"
    },
    {
     "data": {
      "image/png": "[encoded data removed]",
      "text/plain": [
       "<Figure size 432x288 with 1 Axes>"
      ]
     },
     "metadata": {
      "needs_background": "light"
     },
     "output_type": "display_data"
    }
   ],
   "source": [
    "_.bar()"
   ]
  },
  {
   "cell_type": "markdown",
   "metadata": {},
   "source": [
    "##### We counted the total number of personaly injury and fatal during 24 hours in a day. As we can see in the above chart, duing peak hours of traffic, such as 8-9 am and 15-17, there are most traffice violations. For non-profit organizations and American Red-cross, we suggest that they can Set up emergency resettlement sites during 8-9am and 15-17 and arrange care workers during the same time when people commute."
   ]
  },
  {
   "cell_type": "markdown",
   "metadata": {},
   "source": [
    "## Question 3 If companies want to purchase vehicals, what considerations should be taken into account?"
   ]
  },
  {
   "cell_type": "code",
   "execution_count": 80,
   "metadata": {},
   "outputs": [
    {
     "name": "stdout",
     "output_type": "stream",
     "text": [
      " * postgresql://student@/week12\n",
      "Done.\n",
      "6466 rows affected.\n"
     ]
    },
    {
     "data": {
      "text/plain": [
       "[]"
      ]
     },
     "execution_count": 80,
     "metadata": {},
     "output_type": "execute_result"
    }
   ],
   "source": [
    "%%sql\n",
    "drop table if exists company;\n",
    "\n",
    "CREATE TABLE company AS \n",
    "select model, personal_injury, property_damage, contributed_to_accident, count (*) total_num_factors\n",
    "from vehicle\n",
    "join consequence on vehicle.key = consequence.key\n",
    "where personal_injury = 'True' or property_damage = 'True' or contributed_to_accident = 'True'\n",
    "group by model, personal_injury, property_damage, contributed_to_accident\n",
    "order by total_num_factors desc;"
   ]
  },
  {
   "cell_type": "code",
   "execution_count": 102,
   "metadata": {},
   "outputs": [
    {
     "name": "stdout",
     "output_type": "stream",
     "text": [
      " * postgresql://student@/week12\n",
      "5 rows affected.\n"
     ]
    },
    {
     "data": {
      "text/html": [
       "<table>\n",
       "    <tr>\n",
       "        <th>model</th>\n",
       "        <th>total_no_vio</th>\n",
       "    </tr>\n",
       "    <tr>\n",
       "        <td>4S                       </td>\n",
       "        <td>5364</td>\n",
       "    </tr>\n",
       "    <tr>\n",
       "        <td>TK                       </td>\n",
       "        <td>3079</td>\n",
       "    </tr>\n",
       "    <tr>\n",
       "        <td>ACCORD                   </td>\n",
       "        <td>2082</td>\n",
       "    </tr>\n",
       "    <tr>\n",
       "        <td>CIVIC                    </td>\n",
       "        <td>1891</td>\n",
       "    </tr>\n",
       "    <tr>\n",
       "        <td>CAMRY                    </td>\n",
       "        <td>1814</td>\n",
       "    </tr>\n",
       "</table>"
      ],
      "text/plain": [
       "[('4S                       ', Decimal('5364')),\n",
       " ('TK                       ', Decimal('3079')),\n",
       " ('ACCORD                   ', Decimal('2082')),\n",
       " ('CIVIC                    ', Decimal('1891')),\n",
       " ('CAMRY                    ', Decimal('1814'))]"
      ]
     },
     "execution_count": 102,
     "metadata": {},
     "output_type": "execute_result"
    }
   ],
   "source": [
    "%%sql\n",
    "select model, sum(total_num_factors) as total_no_vio\n",
    "from company\n",
    "group by model\n",
    "order  by total_no_vio desc\n",
    "limit 5;"
   ]
  },
  {
   "cell_type": "code",
   "execution_count": 103,
   "metadata": {},
   "outputs": [],
   "source": [
    "%matplotlib inline"
   ]
  },
  {
   "cell_type": "code",
   "execution_count": 104,
   "metadata": {},
   "outputs": [
    {
     "data": {
      "text/plain": [
       "<BarContainer object of 5 artists>"
      ]
     },
     "execution_count": 104,
     "metadata": {},
     "output_type": "execute_result"
    },
    {
     "data": {
      "image/png": "[encoded data removed]",
      "text/plain": [
       "<Figure size 432x288 with 1 Axes>"
      ]
     },
     "metadata": {
      "needs_background": "light"
     },
     "output_type": "display_data"
    }
   ],
   "source": [
    "_.bar()"
   ]
  },
  {
   "cell_type": "code",
   "execution_count": 106,
   "metadata": {},
   "outputs": [
    {
     "data": {
      "text/html": [
       "<img src=\"https://gwu-kellyzyy-2019.s3.amazonaws.com/WechatIMG1347.png\"/>"
      ],
      "text/plain": [
       "<IPython.core.display.Image object>"
      ]
     },
     "execution_count": 106,
     "metadata": {},
     "output_type": "execute_result"
    }
   ],
   "source": [
    "from IPython.display import Image\n",
    "from IPython.core.display import HTML\n",
    "Image(url = \"https://gwu-kellyzyy-2019.s3.amazonaws.com/WechatIMG1347.png\")"
   ]
  },
  {
   "cell_type": "code",
   "execution_count": 84,
   "metadata": {},
   "outputs": [
    {
     "name": "stdout",
     "output_type": "stream",
     "text": [
      " * postgresql://student@/week12\n",
      "Done.\n",
      "1474 rows affected.\n"
     ]
    },
    {
     "data": {
      "text/plain": [
       "[]"
      ]
     },
     "execution_count": 84,
     "metadata": {},
     "output_type": "execute_result"
    }
   ],
   "source": [
    "%%sql\n",
    "drop table if exists company1;\n",
    "\n",
    "CREATE TABLE company1 AS \n",
    "select make, personal_injury, property_damage, contributed_to_accident, count (*) total_num_factors\n",
    "from vehicle\n",
    "join consequence on vehicle.key = consequence.key\n",
    "where personal_injury = 'True' or property_damage = 'True' or contributed_to_accident = 'True'\n",
    "group by make, personal_injury, property_damage, contributed_to_accident\n",
    "order by total_num_factors desc;"
   ]
  },
  {
   "cell_type": "code",
   "execution_count": 85,
   "metadata": {},
   "outputs": [
    {
     "name": "stdout",
     "output_type": "stream",
     "text": [
      " * postgresql://student@/week12\n",
      "Done.\n",
      "693 rows affected.\n"
     ]
    },
    {
     "data": {
      "text/plain": [
       "[]"
      ]
     },
     "execution_count": 85,
     "metadata": {},
     "output_type": "execute_result"
    }
   ],
   "source": [
    "%%sql\n",
    "DROP TABLE IF EXISTS company2;\n",
    "\n",
    "CREATE TABLE company2 AS \n",
    "select make, sum(total_num_factors) total_number\n",
    "from company1\n",
    "group by make\n",
    "order  by total_number desc;"
   ]
  },
  {
   "cell_type": "code",
   "execution_count": 86,
   "metadata": {},
   "outputs": [
    {
     "name": "stdout",
     "output_type": "stream",
     "text": [
      " * postgresql://student@/week12\n",
      "Done.\n",
      "693 rows affected.\n"
     ]
    },
    {
     "data": {
      "text/plain": [
       "[]"
      ]
     },
     "execution_count": 86,
     "metadata": {},
     "output_type": "execute_result"
    }
   ],
   "source": [
    "%%sql\n",
    "DROP TABLE IF EXISTS company3;\n",
    "\n",
    "CREATE TABLE company3 AS \n",
    "select make, total_number,\n",
    "CASE\n",
    "    WHEN make LIKE 'TOY%' THEN\n",
    "         'TOYOTA'\n",
    "    WHEN make LIKE 'HON%' THEN\n",
    "         'HONDA'\n",
    "    WHEN make LIKE 'CHEV%' THEN\n",
    "         'CHEVY'\n",
    "    WHEN make LIKE 'NISS%' THEN \n",
    "    'NISSAN'\n",
    "    WHEN make LIKE 'YAMA%' THEN \n",
    "    'YAMAHA'\n",
    "    WHEN make LIKE 'VOLK%' THEN \n",
    "    'VOLKSWAGON'\n",
    "    WHEN make LIKE 'FOR%' THEN \n",
    "    'FORD'\n",
    "    WHEN make LIKE 'DOD%' THEN \n",
    "    'DODGE'\n",
    "    WHEN make LIKE 'BMW%' THEN \n",
    "    'BMW'\n",
    "    WHEN make LIKE 'JEEP%' THEN \n",
    "    'JEEP'\n",
    "    ELSE\n",
    "        'UNKOWN' END as new\n",
    "from company2;"
   ]
  },
  {
   "cell_type": "code",
   "execution_count": 97,
   "metadata": {},
   "outputs": [
    {
     "name": "stdout",
     "output_type": "stream",
     "text": [
      " * postgresql://student@/week12\n",
      "Done.\n",
      "11 rows affected.\n"
     ]
    },
    {
     "data": {
      "text/plain": [
       "[]"
      ]
     },
     "execution_count": 97,
     "metadata": {},
     "output_type": "execute_result"
    }
   ],
   "source": [
    "%%sql\n",
    "drop table if exists company4;\n",
    "create table company4 as\n",
    "\n",
    "select new as new_make, sum(total_number) as total_number_violations\n",
    "from company3\n",
    "group by new\n",
    "order by total_number_violations desc;"
   ]
  },
  {
   "cell_type": "code",
   "execution_count": 98,
   "metadata": {},
   "outputs": [
    {
     "name": "stdout",
     "output_type": "stream",
     "text": [
      " * postgresql://student@/week12\n",
      "1 rows affected.\n"
     ]
    },
    {
     "data": {
      "text/plain": [
       "[]"
      ]
     },
     "execution_count": 98,
     "metadata": {},
     "output_type": "execute_result"
    }
   ],
   "source": [
    "%%sql\n",
    "delete from company4\n",
    "where new_make = 'UNKOWN'"
   ]
  },
  {
   "cell_type": "code",
   "execution_count": 99,
   "metadata": {},
   "outputs": [
    {
     "name": "stdout",
     "output_type": "stream",
     "text": [
      " * postgresql://student@/week12\n",
      "10 rows affected.\n"
     ]
    },
    {
     "data": {
      "text/html": [
       "<table>\n",
       "    <tr>\n",
       "        <th>new_make</th>\n",
       "        <th>total_number_violations</th>\n",
       "    </tr>\n",
       "    <tr>\n",
       "        <td>TOYOTA</td>\n",
       "        <td>8884</td>\n",
       "    </tr>\n",
       "    <tr>\n",
       "        <td>HONDA</td>\n",
       "        <td>7742</td>\n",
       "    </tr>\n",
       "    <tr>\n",
       "        <td>FORD</td>\n",
       "        <td>5030</td>\n",
       "    </tr>\n",
       "    <tr>\n",
       "        <td>CHEVY</td>\n",
       "        <td>4131</td>\n",
       "    </tr>\n",
       "    <tr>\n",
       "        <td>NISSAN</td>\n",
       "        <td>4002</td>\n",
       "    </tr>\n",
       "    <tr>\n",
       "        <td>DODGE</td>\n",
       "        <td>1903</td>\n",
       "    </tr>\n",
       "    <tr>\n",
       "        <td>BMW</td>\n",
       "        <td>1485</td>\n",
       "    </tr>\n",
       "    <tr>\n",
       "        <td>JEEP</td>\n",
       "        <td>1164</td>\n",
       "    </tr>\n",
       "    <tr>\n",
       "        <td>VOLKSWAGON</td>\n",
       "        <td>1011</td>\n",
       "    </tr>\n",
       "    <tr>\n",
       "        <td>YAMAHA</td>\n",
       "        <td>48</td>\n",
       "    </tr>\n",
       "</table>"
      ],
      "text/plain": [
       "[('TOYOTA', Decimal('8884')),\n",
       " ('HONDA', Decimal('7742')),\n",
       " ('FORD', Decimal('5030')),\n",
       " ('CHEVY', Decimal('4131')),\n",
       " ('NISSAN', Decimal('4002')),\n",
       " ('DODGE', Decimal('1903')),\n",
       " ('BMW', Decimal('1485')),\n",
       " ('JEEP', Decimal('1164')),\n",
       " ('VOLKSWAGON', Decimal('1011')),\n",
       " ('YAMAHA', Decimal('48'))]"
      ]
     },
     "execution_count": 99,
     "metadata": {},
     "output_type": "execute_result"
    }
   ],
   "source": [
    "%%sql\n",
    "select * from company4"
   ]
  },
  {
   "cell_type": "code",
   "execution_count": 100,
   "metadata": {},
   "outputs": [],
   "source": [
    "%matplotlib inline"
   ]
  },
  {
   "cell_type": "code",
   "execution_count": 101,
   "metadata": {},
   "outputs": [
    {
     "data": {
      "text/plain": [
       "<BarContainer object of 10 artists>"
      ]
     },
     "execution_count": 101,
     "metadata": {},
     "output_type": "execute_result"
    },
    {
     "data": {
      "image/png": "[encoded data removed]",
      "text/plain": [
       "<Figure size 432x288 with 1 Axes>"
      ]
     },
     "metadata": {
      "needs_background": "light"
     },
     "output_type": "display_data"
    }
   ],
   "source": [
    "_.bar()"
   ]
  },
  {
   "cell_type": "code",
   "execution_count": 105,
   "metadata": {},
   "outputs": [
    {
     "data": {
      "text/html": [
       "<img src=\"https://gwu-kellyzyy-2019.s3.amazonaws.com/WechatIMG1345.png\"/>"
      ],
      "text/plain": [
       "<IPython.core.display.Image object>"
      ]
     },
     "execution_count": 105,
     "metadata": {},
     "output_type": "execute_result"
    }
   ],
   "source": [
    "from IPython.display import Image\n",
    "from IPython.core.display import HTML\n",
    "Image(url = \"https://gwu-kellyzyy-2019.s3.amazonaws.com/WechatIMG1345.png\")"
   ]
  },
  {
   "cell_type": "markdown",
   "metadata": {},
   "source": [
    "##### We joined two tables of vehicle and consequence to see corelations between vehicle chracteristics and violations, specifically personal_injury, property_damage and fatal. We are trying to understand what kind of model and manufaturers contribute the most in these three aspects. As we can see in the chart, we found top 5 models and top 5 manufacturers that appears the most in personal injury/property damage/fatal. We hope these findings could help companies in cosidering buying vehicles for their commercial use. We suggest that companies could consider more insurance plans when buying these vehicles."
   ]
  },
  {
   "cell_type": "code",
   "execution_count": null,
   "metadata": {},
   "outputs": [],
   "source": []
  }
 ],
 "metadata": {
  "kernelspec": {
   "display_name": "Python 3",
   "language": "python",
   "name": "python3"
  },
  "language_info": {
   "codemirror_mode": {
    "name": "ipython",
    "version": 3
   },
   "file_extension": ".py",
   "mimetype": "text/x-python",
   "name": "python",
   "nbconvert_exporter": "python",
   "pygments_lexer": "ipython3",
   "version": "3.7.4"
  }
 },
 "nbformat": 4,
 "nbformat_minor": 2
}
